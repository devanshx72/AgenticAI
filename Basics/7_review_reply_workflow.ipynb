{
 "cells": [
  {
   "cell_type": "code",
   "execution_count": 1,
   "id": "d2a08680",
   "metadata": {},
   "outputs": [],
   "source": [
    "from langgraph.graph import StateGraph, START, END\n",
    "from langchain_google_genai import ChatGoogleGenerativeAI\n",
    "from typing import TypedDict, Literal\n",
    "from dotenv import load_dotenv\n",
    "from pydantic import BaseModel, Field"
   ]
  },
  {
   "cell_type": "code",
   "execution_count": 2,
   "id": "830e05c8",
   "metadata": {},
   "outputs": [
    {
     "data": {
      "text/plain": [
       "True"
      ]
     },
     "execution_count": 2,
     "metadata": {},
     "output_type": "execute_result"
    }
   ],
   "source": [
    "load_dotenv()"
   ]
  },
  {
   "cell_type": "code",
   "execution_count": 3,
   "id": "743c047a",
   "metadata": {},
   "outputs": [
    {
     "name": "stderr",
     "output_type": "stream",
     "text": [
      "WARNING: All log messages before absl::InitializeLog() is called are written to STDERR\n",
      "E0000 00:00:1761144051.824279  483079 alts_credentials.cc:93] ALTS creds ignored. Not running on GCP and untrusted ALTS is not enabled.\n"
     ]
    }
   ],
   "source": [
    "model = ChatGoogleGenerativeAI(model=\"gemini-2.5-flash\")"
   ]
  },
  {
   "cell_type": "code",
   "execution_count": 4,
   "id": "50350b5a",
   "metadata": {},
   "outputs": [],
   "source": [
    "class SentimentSchema(BaseModel):\n",
    "    sentiment: Literal[\"positive\", \"negative\"] = Field(description=\"The sentiment of the review\")\n",
    "\n",
    "class DiagnosisSchema(BaseModel):\n",
    "    issue_type: Literal[\"UX\", \"Performance\", \"Bug\", \"Support\", \"Other\"] = Field(description=\"The type of issue mentioned in the review\")\n",
    "    tone: Literal[\"Angry\", \"Frustrated\", \"Disappointed\", \"Calm\"] = Field(description=\"The emotional tone expressed by the user.\")\n",
    "    urgency: Literal[\"Low\", \"Medium\", \"High\"] = Field(description=\"The urgency level of the user's issue.\")"
   ]
  },
  {
   "cell_type": "code",
   "execution_count": 5,
   "id": "7ec1597f",
   "metadata": {},
   "outputs": [],
   "source": [
    "structured_model = model.with_structured_output(SentimentSchema)\n",
    "structured_model2 = model.with_structured_output(DiagnosisSchema)"
   ]
  },
  {
   "cell_type": "code",
   "execution_count": 6,
   "id": "6af237f4",
   "metadata": {},
   "outputs": [
    {
     "data": {
      "text/plain": [
       "'positive'"
      ]
     },
     "execution_count": 6,
     "metadata": {},
     "output_type": "execute_result"
    }
   ],
   "source": [
    "prompt = \"What is the sentiment of the following review: 'The product was great and met all my expectations!'\"\n",
    "structured_model.invoke(prompt).sentiment"
   ]
  },
  {
   "cell_type": "code",
   "execution_count": 7,
   "id": "56d07bd2",
   "metadata": {},
   "outputs": [],
   "source": [
    "class ReviewState(TypedDict):\n",
    "    review: str\n",
    "    sentiment: Literal[\"positive\", \"negative\"]\n",
    "    diagnosis: str\n",
    "    response: str"
   ]
  },
  {
   "cell_type": "code",
   "execution_count": 11,
   "id": "8272722c",
   "metadata": {},
   "outputs": [],
   "source": [
    "def find_sentiment(state: ReviewState):\n",
    "    prompt = f\"What is the sentiment of the following review: \\n '{state['review']}'\"\n",
    "    return {\"sentiment\": structured_model.invoke(prompt).sentiment}\n",
    "\n",
    "def check_sentiment(state: ReviewState) -> Literal['positive_response', 'run_diagnosis']:\n",
    "    if state['sentiment'] == 'positive':\n",
    "        return 'positive_response'\n",
    "    else:\n",
    "        return 'run_diagnosis'\n",
    "    \n",
    "def positive_response(state: ReviewState):\n",
    "    prompt = f\"\"\"Write a warm, thank you message in response to this review:\n",
    "    \\n '{state['review']}' \\n\n",
    "    Also, kindly ask the user to leave feedback on our website.\"\"\"\n",
    "    response = model.invoke(prompt).content\n",
    "    return {\"response\": response}\n",
    "\n",
    "def run_diagnosis(state: ReviewState):\n",
    "    prompt = f\"\"\"Diagnose this negative review: \\n '{state['review']}' \\n\n",
    "    Return the issue type, emotional tone, and urgency level.\"\"\"\n",
    "    response = structured_model2.invoke(prompt)\n",
    "    return {\"diagnosis\": response.model_dump()}\n",
    "\n",
    "def negative_response(state: ReviewState):\n",
    "    diagnosis = state['diagnosis']\n",
    "    prompt = f\"\"\"You are a support assistant.\n",
    "    The user had a '{diagnosis['issue_type']}' issue with a '{diagnosis['tone']}' tone and a '{diagnosis['urgency']}' urgency level.\n",
    "    Write an empathetic, helpful resolution message.\"\"\"\n",
    "    response = model.invoke(prompt).content\n",
    "    return {\"response\": response}\n"
   ]
  },
  {
   "cell_type": "code",
   "execution_count": 12,
   "id": "8d807a45",
   "metadata": {},
   "outputs": [
    {
     "data": {
      "text/plain": [
       "<langgraph.graph.state.StateGraph at 0x120c350c0>"
      ]
     },
     "execution_count": 12,
     "metadata": {},
     "output_type": "execute_result"
    }
   ],
   "source": [
    "# create the graph\n",
    "graph = StateGraph(ReviewState)\n",
    "\n",
    "graph.add_node('find_sentiment', find_sentiment)\n",
    "graph.add_node('positive_response', positive_response)\n",
    "graph.add_node('negative_response', negative_response)\n",
    "graph.add_node('run_diagnosis', run_diagnosis)\n",
    "\n",
    "graph.add_edge(START, 'find_sentiment')\n",
    "\n",
    "graph.add_conditional_edges('find_sentiment', check_sentiment)\n",
    "graph.add_edge('positive_response', END)\n",
    "graph.add_edge('run_diagnosis', 'negative_response')\n",
    "graph.add_edge('negative_response', END)"
   ]
  },
  {
   "cell_type": "code",
   "execution_count": 13,
   "id": "2dacba45",
   "metadata": {},
   "outputs": [
    {
     "data": {
      "image/png": "[encoded data removed]",
      "text/plain": [
       "<langgraph.graph.state.CompiledStateGraph object at 0x120c35210>"
      ]
     },
     "execution_count": 13,
     "metadata": {},
     "output_type": "execute_result"
    }
   ],
   "source": [
    "workflow = graph.compile()\n",
    "workflow"
   ]
  },
  {
   "cell_type": "code",
   "execution_count": 17,
   "id": "e22d9c20",
   "metadata": {},
   "outputs": [
    {
     "name": "stdout",
     "output_type": "stream",
     "text": [
      "That's a fantastic review! Here's a warm thank you message:\n",
      "\n",
      "---\n",
      "\n",
      "Dear [User's Name, if you have it, otherwise \"Dear Valued User\" or simply omit],\n",
      "\n",
      "Thank you so much for taking the time to share your wonderful feedback! We're absolutely thrilled to hear you've been enjoying the app for the past month.\n",
      "\n",
      "Your comments about the user interface being \"incredibly clean and intuitive\" and how \"everything is exactly where you would expect it to be\" truly hit home for us. We especially appreciate you noticing that it \"just works without needing a tutorial\" – that's exactly what our design team strives for! We'll be sure to pass your kind words directly to them; they'll be absolutely delighted.\n",
      "\n",
      "Your detailed feedback is incredibly valuable and helps us continue to improve. If you ever have more thoughts or suggestions, we'd be incredibly grateful if you could share them on our website. You can find our feedback section here: [Link to your website feedback page]\n",
      "\n",
      "Thanks again for your support and for being a part of our community!\n",
      "\n",
      "Warmly,\n",
      "\n",
      "The [Your App/Company Name] Team\n"
     ]
    }
   ],
   "source": [
    "initial_state = {'review': \"I have been using this app for about a month now, and I must say the user interface is incredibly clean and intuitive. Everything is exactly where you would expect it to be. It's rare to find something that just works without needing a tutorial. Great job to the design team.\"}\n",
    "result = workflow.invoke(initial_state)\n",
    "print(result['response'])"
   ]
  },
  {
   "cell_type": "code",
   "execution_count": 18,
   "id": "d11b0638",
   "metadata": {},
   "outputs": [
    {
     "name": "stdout",
     "output_type": "stream",
     "text": [
      "Subject: Good News! Your Bug Issue Has Been Resolved - [Your Issue ID/Reference Number]\n",
      "\n",
      "Hi [User Name],\n",
      "\n",
      "I'm so sorry to hear you've been experiencing this bug, and I completely understand how frustrating it must have been, especially with its high urgency. Thank you for bringing it to our attention so promptly.\n",
      "\n",
      "I'm happy to report that our team has investigated the issue thoroughly and we've successfully implemented a fix. It appears there was a [brief, non-technical description of cause if known, e.g., 'temporary data synchronization error' or 'small configuration glitch'] on our end, which we've now corrected.\n",
      "\n",
      "To ensure everything is running smoothly on your end, please try clearing your browser cache and cookies, then logging back in. Alternatively, if you're using our app, a quick restart should do the trick.\n",
      "\n",
      "We've monitored the fix and confirmed it's working as expected. Please test it out and let us know if you encounter any further issues or if anything doesn't seem right. Your satisfaction is our top priority, and we appreciate your patience as we worked to resolve this.\n",
      "\n",
      "Thanks again for your understanding.\n",
      "\n",
      "Best regards,\n",
      "\n",
      "[Your Name]\n",
      "Support Assistant\n"
     ]
    }
   ],
   "source": [
    "initial_state2 = {'review': \"I'm really disappointed with this app. It crashes all the time and the performance is terrible. I've tried reaching out to support but haven't received any help. This has been a frustrating experience overall.\"}\n",
    "result2 = workflow.invoke(initial_state2)\n",
    "print(result2['response'])"
   ]
  },
  {
   "cell_type": "code",
   "execution_count": null,
   "id": "abf3b462",
   "metadata": {},
   "outputs": [],
   "source": []
  }
 ],
 "metadata": {
  "kernelspec": {
   "display_name": "langgraph",
   "language": "python",
   "name": "python3"
  },
  "language_info": {
   "codemirror_mode": {
    "name": "ipython",
    "version": 3
   },
   "file_extension": ".py",
   "mimetype": "text/x-python",
   "name": "python",
   "nbconvert_exporter": "python",
   "pygments_lexer": "ipython3",
   "version": "3.10.13"
  }
 },
 "nbformat": 4,
 "nbformat_minor": 5
}
