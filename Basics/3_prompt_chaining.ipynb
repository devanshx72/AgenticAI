{
 "cells": [
  {
   "cell_type": "code",
   "execution_count": 1,
   "id": "ee7e19ae",
   "metadata": {},
   "outputs": [],
   "source": [
    "from langgraph.graph import StateGraph, START, END\n",
    "from typing import TypedDict\n",
    "from langchain_google_genai import ChatGoogleGenerativeAI\n",
    "from dotenv import load_dotenv"
   ]
  },
  {
   "cell_type": "code",
   "execution_count": 2,
   "id": "c97ee7b8",
   "metadata": {},
   "outputs": [
    {
     "data": {
      "text/plain": [
       "True"
      ]
     },
     "execution_count": 2,
     "metadata": {},
     "output_type": "execute_result"
    }
   ],
   "source": [
    "load_dotenv()"
   ]
  },
  {
   "cell_type": "code",
   "execution_count": 3,
   "id": "9c49102e",
   "metadata": {},
   "outputs": [],
   "source": [
    "llm = ChatGoogleGenerativeAI(\n",
    "    model=\"gemini-2.5-flash\",\n",
    "    temperature=0,\n",
    "    max_tokens=None,\n",
    "    timeout=None,\n",
    "    max_retries=2,\n",
    "    # other params...\n",
    ")"
   ]
  },
  {
   "cell_type": "code",
   "execution_count": 4,
   "id": "7399a977",
   "metadata": {},
   "outputs": [],
   "source": [
    "# create a state\n",
    "class BlogState(TypedDict):\n",
    "    title: str\n",
    "    outline: str\n",
    "    content: str\n",
    "    evaluation: str"
   ]
  },
  {
   "cell_type": "code",
   "execution_count": 5,
   "id": "7c82b47b",
   "metadata": {},
   "outputs": [],
   "source": [
    "def evaluate_blog(state: BlogState) -> BlogState:\n",
    "    content = state['content']\n",
    "    title = state['title']\n",
    "    prompt = f\"Evaluate the following blog of title {title} post for clarity, engagement, and informativeness:\\n{content}\\nProvide an integer score between 1 and 10.\"\n",
    "    # ask the LLM\n",
    "    response = str(llm.invoke(prompt).content)\n",
    "    state['evaluation'] = response\n",
    "    return state"
   ]
  },
  {
   "cell_type": "code",
   "execution_count": 6,
   "id": "31107177",
   "metadata": {},
   "outputs": [],
   "source": [
    "def create_outline(state: BlogState) -> BlogState:\n",
    "    title = state['title']\n",
    "    prompt = f\"Create a detailed outline for a blog post with the title: {title}\"\n",
    "    # ask the LLM\n",
    "    response = str(llm.invoke(prompt).content)\n",
    "    state['outline'] = response\n",
    "    return state"
   ]
  },
  {
   "cell_type": "code",
   "execution_count": 7,
   "id": "bfc1578c",
   "metadata": {},
   "outputs": [],
   "source": [
    "def create_blog(state: BlogState) -> BlogState:\n",
    "    title = state['title']\n",
    "    outline = state['outline']\n",
    "    prompt = f\"Write a detailed blog post on the title {title} based on the following outline:\\n{outline}\"\n",
    "    # ask the LLM\n",
    "    response = str(llm.invoke(prompt).content)\n",
    "    state['content'] = response\n",
    "    return state"
   ]
  },
  {
   "cell_type": "code",
   "execution_count": 8,
   "id": "2db815fb",
   "metadata": {},
   "outputs": [],
   "source": [
    "graph = StateGraph(BlogState)\n",
    "\n",
    "# add nodes\n",
    "graph.add_node('create_outline', create_outline)\n",
    "graph.add_node('create_blog', create_blog)\n",
    "graph.add_node('evaluate_blog', evaluate_blog)\n",
    "\n",
    "# add edges\n",
    "graph.add_edge(START, 'create_outline')\n",
    "graph.add_edge('create_outline', 'create_blog')\n",
    "graph.add_edge('create_blog', 'evaluate_blog')\n",
    "graph.add_edge('evaluate_blog', END)\n",
    "\n",
    "workflow = graph.compile()"
   ]
  },
  {
   "cell_type": "code",
   "execution_count": 9,
   "id": "0146cad5",
   "metadata": {},
   "outputs": [
    {
     "name": "stdout",
     "output_type": "stream",
     "text": [
      "## The Future of AI in Everyday Life: Beyond the Hype, Into Your Home\n",
      "\n",
      "From recommending your next binge-watch to powering your smartphone's voice assistant, Artificial Intelligence (AI) is already woven into the fabric of our daily lives. We interact with it subtly when our spam filters catch unwanted emails, when GPS navigation guides us through traffic, or when Siri or Alexa answer our queries. But what if that's just the tip of the iceberg? What if AI is poised to move beyond these helpful, yet often isolated, applications to become an invisible, intelligent layer that anticipates our needs, augments our abilities, and reshapes our interactions with the world around us?\n",
      "\n",
      "This post will delve into the near-future, envisioning how AI will evolve from a helpful tool to a seamlessly integrated force, fundamentally transforming and enhancing various aspects of our everyday existence. We'll explore how AI will redefine our homes, revolutionize our workplaces, personalize our health, and even reshape our cities, all while navigating the crucial ethical considerations that come with such profound technological advancement. Get ready to discover a future where AI isn't just a feature, but an intuitive partner in living.\n",
      "\n",
      "### The Smart Home Evolves: Your Intuitive Sanctuary\n",
      "\n",
      "Imagine a home that doesn't just respond to commands, but truly understands and anticipates your needs. The future smart home, powered by advanced AI, will move far beyond simple voice assistants.\n",
      "\n",
      "**Beyond Voice Assistants:** Your home will become a truly intuitive sanctuary. AI will enable **predictive maintenance and energy efficiency**, monitoring appliances to predict failures before they happen – your fridge might order milk before you even realize you're low, or your washing machine could schedule a service appointment. HVAC systems will optimize energy consumption based on your habits, external weather, and even grid demand, ensuring comfort while minimizing your carbon footprint. Furthermore, AI will create **personalized environments**, learning your preferences for lighting, temperature, music, and even scents. Walking into a room could automatically trigger your preferred playlist, adjust the lighting to your mood, and set the perfect temperature, all without a single spoken command.\n",
      "\n",
      "**Domestic Robotics & Assistance:** The era of helpful home robots is rapidly approaching. Beyond basic vacuuming, advanced domestic robots will clean windows, manage laundry, and even perform minor repairs. In the kitchen, AI-powered appliances will suggest recipes based on available ingredients, assist with meal prep, or even cook full meals autonomously. For our aging population, AI companions will provide invaluable **elder care and companionship**, offering medication reminders, monitoring well-being, and engaging in interactive conversations to combat loneliness.\n",
      "\n",
      "**Enhanced Home Security:** AI will transform home security from reactive to proactive. Systems will analyze patterns, identify anomalies like unusual sounds or unfamiliar faces, and intelligently differentiate between pets, family members, and potential intruders. **Smart access control** will utilize biometric authentication, allowing seamless entry for residents and temporary, secure access for deliveries or guests, all managed with intelligent precision.\n",
      "\n",
      "### Revolutionizing Work & Productivity: The AI Co-Pilot\n",
      "\n",
      "The workplace of tomorrow will see AI not as a replacement, but as an indispensable co-pilot, augmenting human capabilities and streamlining operations.\n",
      "\n",
      "**Automation of Repetitive Tasks:** AI will liberate us from the drudgery of routine. **Administrative and data entry** tasks like scheduling meetings, managing emails, generating reports, and analyzing vast datasets will be handled by AI, freeing up human employees to focus on strategic thinking, creativity, and complex problem-solving. In **customer service**, advanced chatbots and virtual agents will handle complex queries, providing instant, accurate support and escalating only the most nuanced issues to human representatives.\n",
      "\n",
      "**Augmenting Human Creativity & Decision-Making:** Far from stifling creativity, AI will act as a powerful partner. AI tools will assist with **creative tasks** like writing (generating drafts, refining tone, suggesting improvements), graphic design (proposing layouts, creating assets), and even music composition. For **decision-making**, AI will sift through immense datasets to identify hidden trends, predict market outcomes, and provide actionable recommendations for business strategy, empowering leaders with unprecedented insights. Furthermore, AI will facilitate **personalized learning and skill development**, identifying individual skill gaps, recommending tailored training programs, and providing real-time feedback to continuously improve performance.\n",
      "\n",
      "**Seamless Collaboration:** AI will bridge communication gaps and enhance team efficiency. **Intelligent meeting summaries** will transcribe discussions, highlight key decisions, and automatically assign action items, ensuring clarity and accountability. For global teams, **cross-language communication** will become effortless with real-time translation, fostering truly international collaboration.\n",
      "\n",
      "### Personalized Health & Wellness: Your Proactive Guardian\n",
      "\n",
      "The future of healthcare will be deeply personal, preventative, and accessible, with AI acting as a proactive guardian of our well-being.\n",
      "\n",
      "**Preventative Care & Early Detection:** Wearable technology will evolve into sophisticated health monitors. AI will analyze continuous data from smartwatches, rings, and other devices to detect subtle changes indicative of illness – from impending infections to cardiovascular issues – often before symptoms even appear. In diagnostics, AI will revolutionize **predictive diagnostics**, analyzing medical images (X-rays, MRIs) and lab results with greater accuracy and speed than human eyes, identifying potential issues like cancerous growths or neurological disorders at their earliest, most treatable stages.\n",
      "\n",
      "**Tailored Treatment & Wellness Plans:** The era of one-size-fits-all medicine will end. AI will assist doctors in creating highly **individualized treatment plans** based on a patient's unique genetics, lifestyle, environmental factors, and real-time health data, leading to more effective and targeted therapies. For mental health, AI-powered chatbots and apps will offer accessible, **personalized mental health support**, providing stress management techniques, cognitive behavioral therapy exercises, and early intervention for mood disorders, democratizing access to crucial care.\n",
      "\n",
      "**Accessible Healthcare:** AI will break down barriers to healthcare access. **Virtual consultations** powered by AI platforms will facilitate remote diagnoses and consultations, bringing expert medical advice to underserved rural areas or for those with mobility challenges. Furthermore, smart dispensers and AI reminders will ensure strict **medication management**, improving adherence to complex schedules and reducing the risk of missed doses or adverse interactions.\n",
      "\n",
      "### Seamless Transportation & Smart Cities: The Connected Ecosystem\n",
      "\n",
      "Our urban landscapes and how we move within them are on the cusp of a profound transformation, driven by AI creating a truly connected ecosystem.\n",
      "\n",
      "**Autonomous Vehicles & Logistics:** The roads of tomorrow will be dominated by AI. **Self-driving cars and public transport** will not only navigate safely but also communicate with each other and city infrastructure, optimizing traffic flow and reducing congestion. In logistics, AI will coordinate vast **drone fleets** for rapid package delivery, emergency medical supplies, and even infrastructure inspection, creating a highly efficient and responsive delivery network.\n",
      "\n",
      "**Intelligent Urban Planning:** Cities themselves will become smarter. AI will optimize **traffic management** by dynamically adjusting traffic lights and rerouting vehicles in real-time to reduce congestion and emissions. For **resource management**, AI will monitor and optimize energy grids, waste collection routes, and water distribution, leading to more sustainable and efficient urban operations. In **public safety**, AI will assist in crime prediction, coordinate emergency response, and manage resources during disaster scenarios, making cities safer and more resilient.\n",
      "\n",
      "**Personalized Travel Experiences:** Getting from A to B will be more intuitive than ever. AI will learn your travel preferences, suggesting optimal routes based on real-time conditions, predicting parking availability, and even recommending alternative transport options. This **integrated mobility** will see AI seamlessly coordinating various modes of transport – ride-sharing, public transit, micro-mobility – to create the most efficient and personalized journey possible.\n",
      "\n",
      "### The Ethical Crossroads & Challenges\n",
      "\n",
      "While the promise of AI is immense, its widespread integration into everyday life also brings significant ethical crossroads and challenges that demand careful consideration and proactive solutions.\n",
      "\n",
      "**Privacy & Data Security:** The effectiveness of AI often hinges on its ability to process immense amounts of personal data. This raises critical questions about **vast data collection**: how much data is too much? Who owns it? And how can we ensure its secure storage and ethical use? Furthermore, as AI becomes more sophisticated, so do **cybersecurity risks**, with AI-powered threats requiring equally robust AI-powered defenses.\n",
      "\n",
      "**Bias & Fairness:** AI systems are only as unbiased as the data they're trained on. **Algorithmic bias** can lead to unfair or discriminatory outcomes if the training data reflects existing societal prejudices. This could manifest in areas like hiring, loan applications, or even facial recognition, perpetuating inequalities. The challenge lies in **ensuring equity** by designing AI that serves all segments of society fairly and without prejudice.\n",
      "\n",
      "**Job Displacement & Economic Impact:** A major concern is the potential for **job displacement** as AI automates tasks traditionally performed by humans. While AI is expected to create new jobs and augment existing roles, the transition will require significant societal adaptation. This necessitates a focus on **reskilling the workforce**, providing continuous education and training programs to equip individuals with the skills needed for an AI-powered economy.\n",
      "\n",
      "**Autonomy & Control:** As AI systems become more intelligent and capable of making decisions, questions arise about **decision-making authority**. Who is responsible when an AI makes a critical decision with unforeseen consequences? The importance of maintaining **human oversight** – ensuring that humans remain \"in the loop\" for critical decisions and can intervene when necessary – becomes paramount.\n",
      "\n",
      "**The Digital Divide:** Finally, there's the risk of exacerbating the **digital divide**. If the benefits of advanced AI are only accessible to certain socio-economic groups or regions, it could widen existing inequalities, creating a future where some thrive with AI assistance while others are left behind. Ensuring equitable access to AI's benefits is a crucial challenge.\n",
      "\n",
      "### Conclusion\n",
      "\n",
      "The future of AI isn't a distant sci-fi fantasy; it's a rapidly approaching reality where our homes anticipate our needs, our work is augmented by intelligent partners, our health is proactively managed, and our cities operate with unprecedented efficiency. We've explored how AI will transform our personal spaces, professional lives, well-being, and urban environments, moving beyond simple tools to become an invisible, intelligent layer that profoundly impacts our daily existence.\n",
      "\n",
      "Ultimately, AI's future is not just about technological advancement, but about creating a more intuitive, personalized, and efficient human experience. It's a future where technology truly serves humanity in unprecedented ways, making our lives easier, healthier, and more connected. As we stand on the cusp of this AI revolution, the question isn't *if* AI will change our lives, but *how* we will choose to guide its development. What aspects of an AI-powered future excite you most, and what concerns do you believe we must address first to ensure a beneficial and equitable future for all?\n"
     ]
    }
   ],
   "source": [
    "initial_state = {'title': \"The Future of AI in Everyday Life\"}\n",
    "final_state = workflow.invoke(initial_state)\n",
    "print(final_state['content'])"
   ]
  },
  {
   "cell_type": "code",
   "execution_count": 10,
   "id": "ae21df7c",
   "metadata": {},
   "outputs": [
    {
     "name": "stdout",
     "output_type": "stream",
     "text": [
      "This blog post is exceptionally well-written and structured, effectively achieving its goals for clarity, engagement, and informativeness.\n",
      "\n",
      "Here's a detailed evaluation:\n",
      "\n",
      "### Clarity: 5/5\n",
      "\n",
      "*   **Excellent Structure:** The post is incredibly well-organized with clear headings and subheadings that guide the reader through different aspects of AI's future. The introduction sets the stage perfectly, and the conclusion summarizes effectively while posing engaging questions.\n",
      "*   **Accessible Language:** The language used is clear, concise, and free of excessive jargon, making complex concepts understandable for a general audience. When technical terms are used (e.g., \"predictive maintenance,\" \"algorithmic bias\"), they are either self-explanatory in context or implicitly defined by the examples given.\n",
      "*   **Concrete Examples:** Each section is rich with specific, relatable examples that vividly illustrate the envisioned future. From a fridge ordering milk to AI-powered mental health support and drone fleets, the scenarios are easy to grasp and visualize.\n",
      "*   **Logical Flow:** The arguments flow smoothly from one point to the next, building a comprehensive picture of AI's integration into daily life. Transitions between paragraphs and sections are seamless.\n",
      "\n",
      "### Engagement: 4.5/5\n",
      "\n",
      "*   **Compelling Hook:** The title \"Beyond the Hype, Into Your Home\" immediately grabs attention, promising a practical and relatable discussion. The opening paragraph effectively grounds AI in current experiences before posing the intriguing \"what if\" question.\n",
      "*   **Vivid Imagery:** The post uses evocative language and paints clear pictures of the future (\"intuitive sanctuary,\" \"proactive guardian,\" \"seamless co-pilot\"), making the content feel less like a dry technical report and more like a glimpse into a plausible future.\n",
      "*   **Relatability:** By focusing on everyday aspects like homes, work, health, and cities, the post makes the future of AI highly relevant and personal to the reader.\n",
      "*   **Balanced Perspective:** The inclusion of a dedicated \"Ethical Crossroads\" section significantly enhances engagement by acknowledging potential downsides and challenges, adding credibility and depth rather than just presenting an overly optimistic view. This makes the vision feel more realistic and prompts deeper thought.\n",
      "*   **Call to Action:** The concluding questions invite reader interaction and reflection, extending the engagement beyond the text itself.\n",
      "\n",
      "### Informativeness: 5/5\n",
      "\n",
      "*   **Comprehensive Coverage:** The post covers a remarkably broad range of AI applications across various domains (home, work, health, cities), providing a holistic view of its potential impact.\n",
      "*   **Detailed Insights:** For a blog post, it offers a good level of detail within each section, moving beyond superficial descriptions to explain *how* AI will function in specific scenarios (e.g., not just \"smart homes\" but \"predictive maintenance,\" \"personalized environments,\" \"domestic robotics\").\n",
      "*   **Ethical Considerations:** The \"Ethical Crossroads & Challenges\" section is a standout feature. It thoroughly addresses crucial concerns like privacy, bias, job displacement, autonomy, and the digital divide, demonstrating a thoughtful and responsible approach to the topic. This section is not an afterthought but an integral part of the evaluation of AI's future.\n",
      "*   **Forward-Looking but Grounded:** While envisioning the future, the post remains grounded in current AI capabilities and trends, making its predictions feel plausible and well-researched.\n",
      "\n",
      "### Overall Score: 9/10\n",
      "\n",
      "This is an outstanding blog post. It excels in all three criteria, providing a clear, engaging, and highly informative overview of the future of AI in everyday life. The structure is impeccable, the language is accessible, the examples are vivid, and the balanced discussion of both opportunities and challenges is particularly commendable. It's a model for how to discuss complex technological topics for a general audience.\n"
     ]
    }
   ],
   "source": [
    "print(final_state['evaluation'])"
   ]
  },
  {
   "cell_type": "code",
   "execution_count": null,
   "id": "d7e13d25",
   "metadata": {},
   "outputs": [],
   "source": []
  }
 ],
 "metadata": {
  "kernelspec": {
   "display_name": "langgraph",
   "language": "python",
   "name": "python3"
  },
  "language_info": {
   "codemirror_mode": {
    "name": "ipython",
    "version": 3
   },
   "file_extension": ".py",
   "mimetype": "text/x-python",
   "name": "python",
   "nbconvert_exporter": "python",
   "pygments_lexer": "ipython3",
   "version": "3.11.9"
  }
 },
 "nbformat": 4,
 "nbformat_minor": 5
}
