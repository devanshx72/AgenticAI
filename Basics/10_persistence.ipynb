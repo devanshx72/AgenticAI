{
 "cells": [
  {
   "cell_type": "code",
   "execution_count": 1,
   "id": "24232b30",
   "metadata": {},
   "outputs": [],
   "source": [
    "from langgraph.graph import StateGraph, START, END\n",
    "from typing import TypedDict\n",
    "from langchain_google_genai import ChatGoogleGenerativeAI\n",
    "from dotenv import load_dotenv\n",
    "from langgraph.checkpoint.memory import InMemorySaver"
   ]
  },
  {
   "cell_type": "code",
   "execution_count": 2,
   "id": "7d0b66f3",
   "metadata": {},
   "outputs": [
    {
     "data": {
      "text/plain": [
       "True"
      ]
     },
     "execution_count": 2,
     "metadata": {},
     "output_type": "execute_result"
    }
   ],
   "source": [
    "load_dotenv()  "
   ]
  },
  {
   "cell_type": "code",
   "execution_count": 3,
   "id": "4de11c59",
   "metadata": {},
   "outputs": [
    {
     "name": "stderr",
     "output_type": "stream",
     "text": [
      "WARNING: All log messages before absl::InitializeLog() is called are written to STDERR\n",
      "E0000 00:00:1761330029.870250  439760 alts_credentials.cc:93] ALTS creds ignored. Not running on GCP and untrusted ALTS is not enabled.\n"
     ]
    }
   ],
   "source": [
    "model = ChatGoogleGenerativeAI(model=\"gemini-2.5-pro\")"
   ]
  },
  {
   "cell_type": "code",
   "execution_count": 4,
   "id": "1fa1f278",
   "metadata": {},
   "outputs": [],
   "source": [
    "class JokeState(TypedDict):\n",
    "    topic: str\n",
    "    joke: str\n",
    "    explanation: str"
   ]
  },
  {
   "cell_type": "code",
   "execution_count": 5,
   "id": "a09a292e",
   "metadata": {},
   "outputs": [],
   "source": [
    "def generate_joke(state: JokeState):\n",
    "    prompt = f\"Generate a joke about {state['topic']}.\"\n",
    "    result = model.invoke(prompt).content\n",
    "\n",
    "    return {\"joke\": result}"
   ]
  },
  {
   "cell_type": "code",
   "execution_count": 6,
   "id": "45c3a5e9",
   "metadata": {},
   "outputs": [],
   "source": [
    "def generate_explanation(state: JokeState):\n",
    "    prompt = f\"Explain the following joke: {state['joke']}\"\n",
    "    result = model.invoke(prompt).content\n",
    "\n",
    "    return {\"explanation\": result}"
   ]
  },
  {
   "cell_type": "code",
   "execution_count": 7,
   "id": "89ecb7e9",
   "metadata": {},
   "outputs": [],
   "source": [
    "graph = StateGraph(JokeState)\n",
    "\n",
    "graph.add_node(\"generate_joke\", generate_joke)\n",
    "graph.add_node(\"generate_explanation\", generate_explanation)\n",
    "\n",
    "graph.add_edge(START, \"generate_joke\")\n",
    "graph.add_edge(\"generate_joke\", \"generate_explanation\")\n",
    "graph.add_edge(\"generate_explanation\", END)\n",
    "\n",
    "checkpointer = InMemorySaver()\n",
    "\n",
    "workflow = graph.compile(checkpointer=checkpointer)"
   ]
  },
  {
   "cell_type": "code",
   "execution_count": 8,
   "id": "cf1b046b",
   "metadata": {},
   "outputs": [
    {
     "data": {
      "image/png": "[encoded data removed]",
      "text/plain": [
       "<langgraph.graph.state.CompiledStateGraph object at 0x11245b5e0>"
      ]
     },
     "execution_count": 8,
     "metadata": {},
     "output_type": "execute_result"
    }
   ],
   "source": [
    "workflow"
   ]
  },
  {
   "cell_type": "code",
   "execution_count": 9,
   "id": "00a63b87",
   "metadata": {},
   "outputs": [
    {
     "data": {
      "text/plain": [
       "{'topic': 'politics',\n",
       " 'joke': 'A politician was touring a farm and, trying to get a good photo op, hopped onto a fence railing. The railing broke, and he fell into a deep slurry pit.\\n\\nHe started sinking and screaming for help. The farmer ran over and yelled down, \"Give me your hand!\"\\n\\nThe politician just kept flailing and screaming, sinking deeper.\\n\\nThe farmer yelled again, \"Give me your hand!\"\\n\\nStill, nothing. The politician was almost submerged.\\n\\nThe farmer, a wise old man, thought for a second and then yelled, \"Okay, *take* my hand!\"\\n\\nThe politician immediately reached up, grabbed the farmer\\'s hand, and was pulled to safety.\\n\\nOnce he was cleaned off, the dazed politician asked, \"How did you know to say that?\"\\n\\nThe farmer sighed. \"I\\'ve been around a while. I know a politician will never *give* you anything.\"',\n",
       " 'explanation': 'Of course! This is a classic joke that plays on a common stereotype. Here\\'s a breakdown of why it\\'s funny:\\n\\n### The Core of the Joke\\n\\nThe humor comes from the stereotype that **politicians are fundamentally takers, not givers.** The joke sets up an absurd, life-or-death situation to show how deeply ingrained this trait is.\\n\\n### Step-by-Step Explanation\\n\\n1.  **The Setup:** A politician is on a farm for a \"photo op,\" which immediately frames him as someone more concerned with image than substance. He falls into a slurry pit (a gross, embarrassing, and dangerous situation), making him completely helpless.\\n\\n2.  **The Initial Problem:** The farmer\\'s first attempt to help is the most natural human response: \"Give me your hand!\" This is a request for the politician to perform an act of *giving*. According to the joke\\'s logic, this is something the politician is psychologically incapable of doing.\\n\\n3.  **The Twist:** The politician continues to sink, ignoring the offer of help. This is the puzzling part of the joke. A drowning person wouldn\\'t normally refuse a helping hand. The listener is left wondering why.\\n\\n4.  **The Solution:** The \"wise\" farmer understands the politician\\'s nature. He changes his phrasing from a request (\"Give me...\") to an offer (\"Take...\"). By saying, **\"Okay, *take* my hand!\"**, he reframes the rescue as an act of *taking* for the politician. This aligns with the politician\\'s supposed instinct, and he immediately responds.\\n\\n5.  **The Punchline:** The farmer\\'s final line makes the stereotype explicit: **\"I know a politician will never *give* you anything.\"** This confirms that the politician\\'s bizarre behavior wasn\\'t out of panic or confusion, but because his fundamental nature as a \"taker\" overrode even his basic survival instinct.\\n\\nIn short, the joke humorously suggests that a politician\\'s instinct to take is so powerful that they would rather drown than perform an act of giving, even to save their own life.'}"
      ]
     },
     "execution_count": 9,
     "metadata": {},
     "output_type": "execute_result"
    }
   ],
   "source": [
    "config1 = {\"configurable\": {\"thread_id\": \"1\"}}\n",
    "workflow.invoke({\"topic\": \"politics\"}, config=config1)"
   ]
  },
  {
   "cell_type": "code",
   "execution_count": 10,
   "id": "0893495b",
   "metadata": {},
   "outputs": [
    {
     "data": {
      "text/plain": [
       "StateSnapshot(values={'topic': 'politics', 'joke': 'A politician was touring a farm and, trying to get a good photo op, hopped onto a fence railing. The railing broke, and he fell into a deep slurry pit.\\n\\nHe started sinking and screaming for help. The farmer ran over and yelled down, \"Give me your hand!\"\\n\\nThe politician just kept flailing and screaming, sinking deeper.\\n\\nThe farmer yelled again, \"Give me your hand!\"\\n\\nStill, nothing. The politician was almost submerged.\\n\\nThe farmer, a wise old man, thought for a second and then yelled, \"Okay, *take* my hand!\"\\n\\nThe politician immediately reached up, grabbed the farmer\\'s hand, and was pulled to safety.\\n\\nOnce he was cleaned off, the dazed politician asked, \"How did you know to say that?\"\\n\\nThe farmer sighed. \"I\\'ve been around a while. I know a politician will never *give* you anything.\"', 'explanation': 'Of course! This is a classic joke that plays on a common stereotype. Here\\'s a breakdown of why it\\'s funny:\\n\\n### The Core of the Joke\\n\\nThe humor comes from the stereotype that **politicians are fundamentally takers, not givers.** The joke sets up an absurd, life-or-death situation to show how deeply ingrained this trait is.\\n\\n### Step-by-Step Explanation\\n\\n1.  **The Setup:** A politician is on a farm for a \"photo op,\" which immediately frames him as someone more concerned with image than substance. He falls into a slurry pit (a gross, embarrassing, and dangerous situation), making him completely helpless.\\n\\n2.  **The Initial Problem:** The farmer\\'s first attempt to help is the most natural human response: \"Give me your hand!\" This is a request for the politician to perform an act of *giving*. According to the joke\\'s logic, this is something the politician is psychologically incapable of doing.\\n\\n3.  **The Twist:** The politician continues to sink, ignoring the offer of help. This is the puzzling part of the joke. A drowning person wouldn\\'t normally refuse a helping hand. The listener is left wondering why.\\n\\n4.  **The Solution:** The \"wise\" farmer understands the politician\\'s nature. He changes his phrasing from a request (\"Give me...\") to an offer (\"Take...\"). By saying, **\"Okay, *take* my hand!\"**, he reframes the rescue as an act of *taking* for the politician. This aligns with the politician\\'s supposed instinct, and he immediately responds.\\n\\n5.  **The Punchline:** The farmer\\'s final line makes the stereotype explicit: **\"I know a politician will never *give* you anything.\"** This confirms that the politician\\'s bizarre behavior wasn\\'t out of panic or confusion, but because his fundamental nature as a \"taker\" overrode even his basic survival instinct.\\n\\nIn short, the joke humorously suggests that a politician\\'s instinct to take is so powerful that they would rather drown than perform an act of giving, even to save their own life.'}, next=(), config={'configurable': {'thread_id': '1', 'checkpoint_ns': '', 'checkpoint_id': '1f0b1064-1e12-66bc-8002-2f3f452969b0'}}, metadata={'source': 'loop', 'step': 2, 'parents': {}}, created_at='2025-10-24T18:21:28.167949+00:00', parent_config={'configurable': {'thread_id': '1', 'checkpoint_ns': '', 'checkpoint_id': '1f0b1063-34bb-640a-8001-062e4f2c803c'}}, tasks=(), interrupts=())"
      ]
     },
     "execution_count": 10,
     "metadata": {},
     "output_type": "execute_result"
    }
   ],
   "source": [
    "workflow.get_state(config=config1)"
   ]
  },
  {
   "cell_type": "code",
   "execution_count": 11,
   "id": "4f1f19b8",
   "metadata": {},
   "outputs": [
    {
     "data": {
      "text/plain": [
       "[StateSnapshot(values={'topic': 'politics', 'joke': 'A politician was touring a farm and, trying to get a good photo op, hopped onto a fence railing. The railing broke, and he fell into a deep slurry pit.\\n\\nHe started sinking and screaming for help. The farmer ran over and yelled down, \"Give me your hand!\"\\n\\nThe politician just kept flailing and screaming, sinking deeper.\\n\\nThe farmer yelled again, \"Give me your hand!\"\\n\\nStill, nothing. The politician was almost submerged.\\n\\nThe farmer, a wise old man, thought for a second and then yelled, \"Okay, *take* my hand!\"\\n\\nThe politician immediately reached up, grabbed the farmer\\'s hand, and was pulled to safety.\\n\\nOnce he was cleaned off, the dazed politician asked, \"How did you know to say that?\"\\n\\nThe farmer sighed. \"I\\'ve been around a while. I know a politician will never *give* you anything.\"', 'explanation': 'Of course! This is a classic joke that plays on a common stereotype. Here\\'s a breakdown of why it\\'s funny:\\n\\n### The Core of the Joke\\n\\nThe humor comes from the stereotype that **politicians are fundamentally takers, not givers.** The joke sets up an absurd, life-or-death situation to show how deeply ingrained this trait is.\\n\\n### Step-by-Step Explanation\\n\\n1.  **The Setup:** A politician is on a farm for a \"photo op,\" which immediately frames him as someone more concerned with image than substance. He falls into a slurry pit (a gross, embarrassing, and dangerous situation), making him completely helpless.\\n\\n2.  **The Initial Problem:** The farmer\\'s first attempt to help is the most natural human response: \"Give me your hand!\" This is a request for the politician to perform an act of *giving*. According to the joke\\'s logic, this is something the politician is psychologically incapable of doing.\\n\\n3.  **The Twist:** The politician continues to sink, ignoring the offer of help. This is the puzzling part of the joke. A drowning person wouldn\\'t normally refuse a helping hand. The listener is left wondering why.\\n\\n4.  **The Solution:** The \"wise\" farmer understands the politician\\'s nature. He changes his phrasing from a request (\"Give me...\") to an offer (\"Take...\"). By saying, **\"Okay, *take* my hand!\"**, he reframes the rescue as an act of *taking* for the politician. This aligns with the politician\\'s supposed instinct, and he immediately responds.\\n\\n5.  **The Punchline:** The farmer\\'s final line makes the stereotype explicit: **\"I know a politician will never *give* you anything.\"** This confirms that the politician\\'s bizarre behavior wasn\\'t out of panic or confusion, but because his fundamental nature as a \"taker\" overrode even his basic survival instinct.\\n\\nIn short, the joke humorously suggests that a politician\\'s instinct to take is so powerful that they would rather drown than perform an act of giving, even to save their own life.'}, next=(), config={'configurable': {'thread_id': '1', 'checkpoint_ns': '', 'checkpoint_id': '1f0b1064-1e12-66bc-8002-2f3f452969b0'}}, metadata={'source': 'loop', 'step': 2, 'parents': {}}, created_at='2025-10-24T18:21:28.167949+00:00', parent_config={'configurable': {'thread_id': '1', 'checkpoint_ns': '', 'checkpoint_id': '1f0b1063-34bb-640a-8001-062e4f2c803c'}}, tasks=(), interrupts=()),\n",
       " StateSnapshot(values={'topic': 'politics', 'joke': 'A politician was touring a farm and, trying to get a good photo op, hopped onto a fence railing. The railing broke, and he fell into a deep slurry pit.\\n\\nHe started sinking and screaming for help. The farmer ran over and yelled down, \"Give me your hand!\"\\n\\nThe politician just kept flailing and screaming, sinking deeper.\\n\\nThe farmer yelled again, \"Give me your hand!\"\\n\\nStill, nothing. The politician was almost submerged.\\n\\nThe farmer, a wise old man, thought for a second and then yelled, \"Okay, *take* my hand!\"\\n\\nThe politician immediately reached up, grabbed the farmer\\'s hand, and was pulled to safety.\\n\\nOnce he was cleaned off, the dazed politician asked, \"How did you know to say that?\"\\n\\nThe farmer sighed. \"I\\'ve been around a while. I know a politician will never *give* you anything.\"'}, next=('generate_explanation',), config={'configurable': {'thread_id': '1', 'checkpoint_ns': '', 'checkpoint_id': '1f0b1063-34bb-640a-8001-062e4f2c803c'}}, metadata={'source': 'loop', 'step': 1, 'parents': {}}, created_at='2025-10-24T18:21:03.700432+00:00', parent_config={'configurable': {'thread_id': '1', 'checkpoint_ns': '', 'checkpoint_id': '1f0b1062-1004-6982-8000-0167ceb0037d'}}, tasks=(PregelTask(id='d9de98ff-9aae-78d0-b073-612ed31ea2e4', name='generate_explanation', path=('__pregel_pull', 'generate_explanation'), error=None, interrupts=(), state=None, result={'explanation': 'Of course! This is a classic joke that plays on a common stereotype. Here\\'s a breakdown of why it\\'s funny:\\n\\n### The Core of the Joke\\n\\nThe humor comes from the stereotype that **politicians are fundamentally takers, not givers.** The joke sets up an absurd, life-or-death situation to show how deeply ingrained this trait is.\\n\\n### Step-by-Step Explanation\\n\\n1.  **The Setup:** A politician is on a farm for a \"photo op,\" which immediately frames him as someone more concerned with image than substance. He falls into a slurry pit (a gross, embarrassing, and dangerous situation), making him completely helpless.\\n\\n2.  **The Initial Problem:** The farmer\\'s first attempt to help is the most natural human response: \"Give me your hand!\" This is a request for the politician to perform an act of *giving*. According to the joke\\'s logic, this is something the politician is psychologically incapable of doing.\\n\\n3.  **The Twist:** The politician continues to sink, ignoring the offer of help. This is the puzzling part of the joke. A drowning person wouldn\\'t normally refuse a helping hand. The listener is left wondering why.\\n\\n4.  **The Solution:** The \"wise\" farmer understands the politician\\'s nature. He changes his phrasing from a request (\"Give me...\") to an offer (\"Take...\"). By saying, **\"Okay, *take* my hand!\"**, he reframes the rescue as an act of *taking* for the politician. This aligns with the politician\\'s supposed instinct, and he immediately responds.\\n\\n5.  **The Punchline:** The farmer\\'s final line makes the stereotype explicit: **\"I know a politician will never *give* you anything.\"** This confirms that the politician\\'s bizarre behavior wasn\\'t out of panic or confusion, but because his fundamental nature as a \"taker\" overrode even his basic survival instinct.\\n\\nIn short, the joke humorously suggests that a politician\\'s instinct to take is so powerful that they would rather drown than perform an act of giving, even to save their own life.'}),), interrupts=()),\n",
       " StateSnapshot(values={'topic': 'politics'}, next=('generate_joke',), config={'configurable': {'thread_id': '1', 'checkpoint_ns': '', 'checkpoint_id': '1f0b1062-1004-6982-8000-0167ceb0037d'}}, metadata={'source': 'loop', 'step': 0, 'parents': {}}, created_at='2025-10-24T18:20:33.007225+00:00', parent_config={'configurable': {'thread_id': '1', 'checkpoint_ns': '', 'checkpoint_id': '1f0b1062-1000-64c2-bfff-2f664c27a8ce'}}, tasks=(PregelTask(id='d90ea0d8-6311-e2a3-145d-7a33d1763278', name='generate_joke', path=('__pregel_pull', 'generate_joke'), error=None, interrupts=(), state=None, result={'joke': 'A politician was touring a farm and, trying to get a good photo op, hopped onto a fence railing. The railing broke, and he fell into a deep slurry pit.\\n\\nHe started sinking and screaming for help. The farmer ran over and yelled down, \"Give me your hand!\"\\n\\nThe politician just kept flailing and screaming, sinking deeper.\\n\\nThe farmer yelled again, \"Give me your hand!\"\\n\\nStill, nothing. The politician was almost submerged.\\n\\nThe farmer, a wise old man, thought for a second and then yelled, \"Okay, *take* my hand!\"\\n\\nThe politician immediately reached up, grabbed the farmer\\'s hand, and was pulled to safety.\\n\\nOnce he was cleaned off, the dazed politician asked, \"How did you know to say that?\"\\n\\nThe farmer sighed. \"I\\'ve been around a while. I know a politician will never *give* you anything.\"'}),), interrupts=()),\n",
       " StateSnapshot(values={}, next=('__start__',), config={'configurable': {'thread_id': '1', 'checkpoint_ns': '', 'checkpoint_id': '1f0b1062-1000-64c2-bfff-2f664c27a8ce'}}, metadata={'source': 'input', 'step': -1, 'parents': {}}, created_at='2025-10-24T18:20:33.005475+00:00', parent_config=None, tasks=(PregelTask(id='e2e14f03-a307-836e-06b1-f81584a816a1', name='__start__', path=('__pregel_pull', '__start__'), error=None, interrupts=(), state=None, result={'topic': 'politics'}),), interrupts=())]"
      ]
     },
     "execution_count": 11,
     "metadata": {},
     "output_type": "execute_result"
    }
   ],
   "source": [
    "list(workflow.get_state_history(config1))"
   ]
  },
  {
   "cell_type": "markdown",
   "id": "b1f559c4",
   "metadata": {},
   "source": [
    "## **Time Travel**"
   ]
  },
  {
   "cell_type": "code",
   "execution_count": 12,
   "id": "8612aa92",
   "metadata": {},
   "outputs": [
    {
     "data": {
      "text/plain": [
       "StateSnapshot(values={'topic': 'politics'}, next=('generate_joke',), config={'configurable': {'thread_id': '1', 'checkpoint_id': '1f0b1062-1004-6982-8000-0167ceb0037d'}}, metadata={'source': 'loop', 'step': 0, 'parents': {}}, created_at='2025-10-24T18:20:33.007225+00:00', parent_config={'configurable': {'thread_id': '1', 'checkpoint_ns': '', 'checkpoint_id': '1f0b1062-1000-64c2-bfff-2f664c27a8ce'}}, tasks=(PregelTask(id='d90ea0d8-6311-e2a3-145d-7a33d1763278', name='generate_joke', path=('__pregel_pull', 'generate_joke'), error=None, interrupts=(), state=None, result={'joke': 'A politician was touring a farm and, trying to get a good photo op, hopped onto a fence railing. The railing broke, and he fell into a deep slurry pit.\\n\\nHe started sinking and screaming for help. The farmer ran over and yelled down, \"Give me your hand!\"\\n\\nThe politician just kept flailing and screaming, sinking deeper.\\n\\nThe farmer yelled again, \"Give me your hand!\"\\n\\nStill, nothing. The politician was almost submerged.\\n\\nThe farmer, a wise old man, thought for a second and then yelled, \"Okay, *take* my hand!\"\\n\\nThe politician immediately reached up, grabbed the farmer\\'s hand, and was pulled to safety.\\n\\nOnce he was cleaned off, the dazed politician asked, \"How did you know to say that?\"\\n\\nThe farmer sighed. \"I\\'ve been around a while. I know a politician will never *give* you anything.\"'}),), interrupts=())"
      ]
     },
     "execution_count": 12,
     "metadata": {},
     "output_type": "execute_result"
    }
   ],
   "source": [
    "workflow.get_state({\"configurable\": {\"thread_id\": \"1\", \"checkpoint_id\": \"1f0b1062-1004-6982-8000-0167ceb0037d\"}})"
   ]
  },
  {
   "cell_type": "code",
   "execution_count": 13,
   "id": "55e393e7",
   "metadata": {},
   "outputs": [
    {
     "data": {
      "text/plain": [
       "{'topic': 'politics',\n",
       " 'joke': 'A politician is on a campaign tour in the countryside and wants a good photo opportunity. He sees an old farmer leaning on a fence.\\n\\nThe politician walks over, shakes the farmer\\'s hand, and says, \"I see you\\'ve got a problem with this fence post. It\\'s all crooked. It\\'s a perfect example of the neglect our communities have faced!\"\\n\\nTo show he\\'s a man of action, the politician grabs the post, and with a great deal of grunting and effort for the cameras, he yanks it perfectly straight.\\n\\nHe turns to the farmer, beaming, and says, \"There! Good as new!\"\\n\\nThe farmer slowly shakes his head and says, \"Well, you\\'ve just ruined it. For ten years, that\\'s been the only post the pigs could find that was bent just right for a good back-scratchin\\'.\"',\n",
       " 'explanation': 'Of course! This is a classic joke that works on several levels. Here\\'s a breakdown of why it\\'s funny:\\n\\n### The Core of the Joke\\n\\nThe humor comes from the massive misunderstanding between the politician and the farmer, which highlights a sharp contrast in their perspectives:\\n\\n*   **The Politician\\'s Perspective:** He sees the world through the lens of **image and symbolism**. To him, a crooked fence post is a symbol of neglect, decay, and government failure. \"Fixing\" it is a powerful, visual metaphor for how he will \"fix\" the community. His action is performative, designed for cameras and public approval.\\n\\n*   **The Farmer\\'s Perspective:** He sees the world through the lens of **practicality and function**. To him, the fence post isn\\'t a symbol; it\\'s a tool. Its value isn\\'t in its perfect appearance but in its usefulness. The very \"flaw\" the politician saw—its crookedness—was actually its most important feature.\\n\\n### Breaking Down the Humor\\n\\n1.  **The Anti-Climax:** The politician puts on a big, heroic show, expecting gratitude and admiration. The punchline completely deflates his grand gesture. His \"solution\" was not only unnecessary but actively harmful.\\n\\n2.  **Satire of Politicians:** The joke is a sharp critique of a certain type of politician. It pokes fun at those who:\\n    *   Are out of touch with the real needs of the people they claim to serve.\\n    *   Offer simplistic solutions to problems they don\\'t understand.\\n    *   Are more concerned with photo opportunities and appearing to be \"a man of action\" than with genuinely helping.\\n    *   Assume they know best without ever asking the local people what they actually need.\\n\\n3.  **Urban vs. Rural Wisdom:** It\\'s a classic \"city slicker vs. wise country folk\" setup. The politician, representing an outside, top-down authority, imposes his idea of \"order\" and \"correctness\" on a situation. The farmer, with his grounded, local knowledge, reveals how foolish that imposition is. The \"problem\" only existed in the politician\\'s mind.\\n\\nIn short, the joke is funny because the politician, in his arrogant attempt to create a perfect photo op, completely misses the point and ends up \"fixing\" something that was never broken, much to the farmer\\'s (and the pigs\\') dismay.'}"
      ]
     },
     "execution_count": 13,
     "metadata": {},
     "output_type": "execute_result"
    }
   ],
   "source": [
    "workflow.invoke(None, config={\"configurable\": {\"thread_id\": \"1\", \"checkpoint_id\": \"1f0b1062-1004-6982-8000-0167ceb0037d\"}})"
   ]
  },
  {
   "cell_type": "code",
   "execution_count": 14,
   "id": "24221dd8",
   "metadata": {},
   "outputs": [
    {
     "data": {
      "text/plain": [
       "[StateSnapshot(values={'topic': 'politics', 'joke': 'A politician is on a campaign tour in the countryside and wants a good photo opportunity. He sees an old farmer leaning on a fence.\\n\\nThe politician walks over, shakes the farmer\\'s hand, and says, \"I see you\\'ve got a problem with this fence post. It\\'s all crooked. It\\'s a perfect example of the neglect our communities have faced!\"\\n\\nTo show he\\'s a man of action, the politician grabs the post, and with a great deal of grunting and effort for the cameras, he yanks it perfectly straight.\\n\\nHe turns to the farmer, beaming, and says, \"There! Good as new!\"\\n\\nThe farmer slowly shakes his head and says, \"Well, you\\'ve just ruined it. For ten years, that\\'s been the only post the pigs could find that was bent just right for a good back-scratchin\\'.\"', 'explanation': 'Of course! This is a classic joke that works on several levels. Here\\'s a breakdown of why it\\'s funny:\\n\\n### The Core of the Joke\\n\\nThe humor comes from the massive misunderstanding between the politician and the farmer, which highlights a sharp contrast in their perspectives:\\n\\n*   **The Politician\\'s Perspective:** He sees the world through the lens of **image and symbolism**. To him, a crooked fence post is a symbol of neglect, decay, and government failure. \"Fixing\" it is a powerful, visual metaphor for how he will \"fix\" the community. His action is performative, designed for cameras and public approval.\\n\\n*   **The Farmer\\'s Perspective:** He sees the world through the lens of **practicality and function**. To him, the fence post isn\\'t a symbol; it\\'s a tool. Its value isn\\'t in its perfect appearance but in its usefulness. The very \"flaw\" the politician saw—its crookedness—was actually its most important feature.\\n\\n### Breaking Down the Humor\\n\\n1.  **The Anti-Climax:** The politician puts on a big, heroic show, expecting gratitude and admiration. The punchline completely deflates his grand gesture. His \"solution\" was not only unnecessary but actively harmful.\\n\\n2.  **Satire of Politicians:** The joke is a sharp critique of a certain type of politician. It pokes fun at those who:\\n    *   Are out of touch with the real needs of the people they claim to serve.\\n    *   Offer simplistic solutions to problems they don\\'t understand.\\n    *   Are more concerned with photo opportunities and appearing to be \"a man of action\" than with genuinely helping.\\n    *   Assume they know best without ever asking the local people what they actually need.\\n\\n3.  **Urban vs. Rural Wisdom:** It\\'s a classic \"city slicker vs. wise country folk\" setup. The politician, representing an outside, top-down authority, imposes his idea of \"order\" and \"correctness\" on a situation. The farmer, with his grounded, local knowledge, reveals how foolish that imposition is. The \"problem\" only existed in the politician\\'s mind.\\n\\nIn short, the joke is funny because the politician, in his arrogant attempt to create a perfect photo op, completely misses the point and ends up \"fixing\" something that was never broken, much to the farmer\\'s (and the pigs\\') dismay.'}, next=(), config={'configurable': {'thread_id': '1', 'checkpoint_ns': '', 'checkpoint_id': '1f0b1068-dfb9-6424-8002-79b2fa960fd8'}}, metadata={'source': 'loop', 'step': 2, 'parents': {}}, created_at='2025-10-24T18:23:35.847996+00:00', parent_config={'configurable': {'thread_id': '1', 'checkpoint_ns': '', 'checkpoint_id': '1f0b1068-158b-6260-8001-2f4a3e2056df'}}, tasks=(), interrupts=()),\n",
       " StateSnapshot(values={'topic': 'politics', 'joke': 'A politician is on a campaign tour in the countryside and wants a good photo opportunity. He sees an old farmer leaning on a fence.\\n\\nThe politician walks over, shakes the farmer\\'s hand, and says, \"I see you\\'ve got a problem with this fence post. It\\'s all crooked. It\\'s a perfect example of the neglect our communities have faced!\"\\n\\nTo show he\\'s a man of action, the politician grabs the post, and with a great deal of grunting and effort for the cameras, he yanks it perfectly straight.\\n\\nHe turns to the farmer, beaming, and says, \"There! Good as new!\"\\n\\nThe farmer slowly shakes his head and says, \"Well, you\\'ve just ruined it. For ten years, that\\'s been the only post the pigs could find that was bent just right for a good back-scratchin\\'.\"'}, next=('generate_explanation',), config={'configurable': {'thread_id': '1', 'checkpoint_ns': '', 'checkpoint_id': '1f0b1068-158b-6260-8001-2f4a3e2056df'}}, metadata={'source': 'loop', 'step': 1, 'parents': {}}, created_at='2025-10-24T18:23:14.647889+00:00', parent_config={'configurable': {'thread_id': '1', 'checkpoint_ns': '', 'checkpoint_id': '1f0b1062-1004-6982-8000-0167ceb0037d'}}, tasks=(PregelTask(id='6e9162a1-f86c-203e-45ec-a2c0a3d1f109', name='generate_explanation', path=('__pregel_pull', 'generate_explanation'), error=None, interrupts=(), state=None, result={'explanation': 'Of course! This is a classic joke that works on several levels. Here\\'s a breakdown of why it\\'s funny:\\n\\n### The Core of the Joke\\n\\nThe humor comes from the massive misunderstanding between the politician and the farmer, which highlights a sharp contrast in their perspectives:\\n\\n*   **The Politician\\'s Perspective:** He sees the world through the lens of **image and symbolism**. To him, a crooked fence post is a symbol of neglect, decay, and government failure. \"Fixing\" it is a powerful, visual metaphor for how he will \"fix\" the community. His action is performative, designed for cameras and public approval.\\n\\n*   **The Farmer\\'s Perspective:** He sees the world through the lens of **practicality and function**. To him, the fence post isn\\'t a symbol; it\\'s a tool. Its value isn\\'t in its perfect appearance but in its usefulness. The very \"flaw\" the politician saw—its crookedness—was actually its most important feature.\\n\\n### Breaking Down the Humor\\n\\n1.  **The Anti-Climax:** The politician puts on a big, heroic show, expecting gratitude and admiration. The punchline completely deflates his grand gesture. His \"solution\" was not only unnecessary but actively harmful.\\n\\n2.  **Satire of Politicians:** The joke is a sharp critique of a certain type of politician. It pokes fun at those who:\\n    *   Are out of touch with the real needs of the people they claim to serve.\\n    *   Offer simplistic solutions to problems they don\\'t understand.\\n    *   Are more concerned with photo opportunities and appearing to be \"a man of action\" than with genuinely helping.\\n    *   Assume they know best without ever asking the local people what they actually need.\\n\\n3.  **Urban vs. Rural Wisdom:** It\\'s a classic \"city slicker vs. wise country folk\" setup. The politician, representing an outside, top-down authority, imposes his idea of \"order\" and \"correctness\" on a situation. The farmer, with his grounded, local knowledge, reveals how foolish that imposition is. The \"problem\" only existed in the politician\\'s mind.\\n\\nIn short, the joke is funny because the politician, in his arrogant attempt to create a perfect photo op, completely misses the point and ends up \"fixing\" something that was never broken, much to the farmer\\'s (and the pigs\\') dismay.'}),), interrupts=()),\n",
       " StateSnapshot(values={'topic': 'politics', 'joke': 'A politician was touring a farm and, trying to get a good photo op, hopped onto a fence railing. The railing broke, and he fell into a deep slurry pit.\\n\\nHe started sinking and screaming for help. The farmer ran over and yelled down, \"Give me your hand!\"\\n\\nThe politician just kept flailing and screaming, sinking deeper.\\n\\nThe farmer yelled again, \"Give me your hand!\"\\n\\nStill, nothing. The politician was almost submerged.\\n\\nThe farmer, a wise old man, thought for a second and then yelled, \"Okay, *take* my hand!\"\\n\\nThe politician immediately reached up, grabbed the farmer\\'s hand, and was pulled to safety.\\n\\nOnce he was cleaned off, the dazed politician asked, \"How did you know to say that?\"\\n\\nThe farmer sighed. \"I\\'ve been around a while. I know a politician will never *give* you anything.\"', 'explanation': 'Of course! This is a classic joke that plays on a common stereotype. Here\\'s a breakdown of why it\\'s funny:\\n\\n### The Core of the Joke\\n\\nThe humor comes from the stereotype that **politicians are fundamentally takers, not givers.** The joke sets up an absurd, life-or-death situation to show how deeply ingrained this trait is.\\n\\n### Step-by-Step Explanation\\n\\n1.  **The Setup:** A politician is on a farm for a \"photo op,\" which immediately frames him as someone more concerned with image than substance. He falls into a slurry pit (a gross, embarrassing, and dangerous situation), making him completely helpless.\\n\\n2.  **The Initial Problem:** The farmer\\'s first attempt to help is the most natural human response: \"Give me your hand!\" This is a request for the politician to perform an act of *giving*. According to the joke\\'s logic, this is something the politician is psychologically incapable of doing.\\n\\n3.  **The Twist:** The politician continues to sink, ignoring the offer of help. This is the puzzling part of the joke. A drowning person wouldn\\'t normally refuse a helping hand. The listener is left wondering why.\\n\\n4.  **The Solution:** The \"wise\" farmer understands the politician\\'s nature. He changes his phrasing from a request (\"Give me...\") to an offer (\"Take...\"). By saying, **\"Okay, *take* my hand!\"**, he reframes the rescue as an act of *taking* for the politician. This aligns with the politician\\'s supposed instinct, and he immediately responds.\\n\\n5.  **The Punchline:** The farmer\\'s final line makes the stereotype explicit: **\"I know a politician will never *give* you anything.\"** This confirms that the politician\\'s bizarre behavior wasn\\'t out of panic or confusion, but because his fundamental nature as a \"taker\" overrode even his basic survival instinct.\\n\\nIn short, the joke humorously suggests that a politician\\'s instinct to take is so powerful that they would rather drown than perform an act of giving, even to save their own life.'}, next=(), config={'configurable': {'thread_id': '1', 'checkpoint_ns': '', 'checkpoint_id': '1f0b1064-1e12-66bc-8002-2f3f452969b0'}}, metadata={'source': 'loop', 'step': 2, 'parents': {}}, created_at='2025-10-24T18:21:28.167949+00:00', parent_config={'configurable': {'thread_id': '1', 'checkpoint_ns': '', 'checkpoint_id': '1f0b1063-34bb-640a-8001-062e4f2c803c'}}, tasks=(), interrupts=()),\n",
       " StateSnapshot(values={'topic': 'politics', 'joke': 'A politician was touring a farm and, trying to get a good photo op, hopped onto a fence railing. The railing broke, and he fell into a deep slurry pit.\\n\\nHe started sinking and screaming for help. The farmer ran over and yelled down, \"Give me your hand!\"\\n\\nThe politician just kept flailing and screaming, sinking deeper.\\n\\nThe farmer yelled again, \"Give me your hand!\"\\n\\nStill, nothing. The politician was almost submerged.\\n\\nThe farmer, a wise old man, thought for a second and then yelled, \"Okay, *take* my hand!\"\\n\\nThe politician immediately reached up, grabbed the farmer\\'s hand, and was pulled to safety.\\n\\nOnce he was cleaned off, the dazed politician asked, \"How did you know to say that?\"\\n\\nThe farmer sighed. \"I\\'ve been around a while. I know a politician will never *give* you anything.\"'}, next=('generate_explanation',), config={'configurable': {'thread_id': '1', 'checkpoint_ns': '', 'checkpoint_id': '1f0b1063-34bb-640a-8001-062e4f2c803c'}}, metadata={'source': 'loop', 'step': 1, 'parents': {}}, created_at='2025-10-24T18:21:03.700432+00:00', parent_config={'configurable': {'thread_id': '1', 'checkpoint_ns': '', 'checkpoint_id': '1f0b1062-1004-6982-8000-0167ceb0037d'}}, tasks=(PregelTask(id='d9de98ff-9aae-78d0-b073-612ed31ea2e4', name='generate_explanation', path=('__pregel_pull', 'generate_explanation'), error=None, interrupts=(), state=None, result={'explanation': 'Of course! This is a classic joke that plays on a common stereotype. Here\\'s a breakdown of why it\\'s funny:\\n\\n### The Core of the Joke\\n\\nThe humor comes from the stereotype that **politicians are fundamentally takers, not givers.** The joke sets up an absurd, life-or-death situation to show how deeply ingrained this trait is.\\n\\n### Step-by-Step Explanation\\n\\n1.  **The Setup:** A politician is on a farm for a \"photo op,\" which immediately frames him as someone more concerned with image than substance. He falls into a slurry pit (a gross, embarrassing, and dangerous situation), making him completely helpless.\\n\\n2.  **The Initial Problem:** The farmer\\'s first attempt to help is the most natural human response: \"Give me your hand!\" This is a request for the politician to perform an act of *giving*. According to the joke\\'s logic, this is something the politician is psychologically incapable of doing.\\n\\n3.  **The Twist:** The politician continues to sink, ignoring the offer of help. This is the puzzling part of the joke. A drowning person wouldn\\'t normally refuse a helping hand. The listener is left wondering why.\\n\\n4.  **The Solution:** The \"wise\" farmer understands the politician\\'s nature. He changes his phrasing from a request (\"Give me...\") to an offer (\"Take...\"). By saying, **\"Okay, *take* my hand!\"**, he reframes the rescue as an act of *taking* for the politician. This aligns with the politician\\'s supposed instinct, and he immediately responds.\\n\\n5.  **The Punchline:** The farmer\\'s final line makes the stereotype explicit: **\"I know a politician will never *give* you anything.\"** This confirms that the politician\\'s bizarre behavior wasn\\'t out of panic or confusion, but because his fundamental nature as a \"taker\" overrode even his basic survival instinct.\\n\\nIn short, the joke humorously suggests that a politician\\'s instinct to take is so powerful that they would rather drown than perform an act of giving, even to save their own life.'}),), interrupts=()),\n",
       " StateSnapshot(values={'topic': 'politics'}, next=('generate_joke',), config={'configurable': {'thread_id': '1', 'checkpoint_ns': '', 'checkpoint_id': '1f0b1062-1004-6982-8000-0167ceb0037d'}}, metadata={'source': 'loop', 'step': 0, 'parents': {}}, created_at='2025-10-24T18:20:33.007225+00:00', parent_config={'configurable': {'thread_id': '1', 'checkpoint_ns': '', 'checkpoint_id': '1f0b1062-1000-64c2-bfff-2f664c27a8ce'}}, tasks=(PregelTask(id='d90ea0d8-6311-e2a3-145d-7a33d1763278', name='generate_joke', path=('__pregel_pull', 'generate_joke'), error=None, interrupts=(), state=None, result={'joke': 'A politician was touring a farm and, trying to get a good photo op, hopped onto a fence railing. The railing broke, and he fell into a deep slurry pit.\\n\\nHe started sinking and screaming for help. The farmer ran over and yelled down, \"Give me your hand!\"\\n\\nThe politician just kept flailing and screaming, sinking deeper.\\n\\nThe farmer yelled again, \"Give me your hand!\"\\n\\nStill, nothing. The politician was almost submerged.\\n\\nThe farmer, a wise old man, thought for a second and then yelled, \"Okay, *take* my hand!\"\\n\\nThe politician immediately reached up, grabbed the farmer\\'s hand, and was pulled to safety.\\n\\nOnce he was cleaned off, the dazed politician asked, \"How did you know to say that?\"\\n\\nThe farmer sighed. \"I\\'ve been around a while. I know a politician will never *give* you anything.\"'}),), interrupts=()),\n",
       " StateSnapshot(values={}, next=('__start__',), config={'configurable': {'thread_id': '1', 'checkpoint_ns': '', 'checkpoint_id': '1f0b1062-1000-64c2-bfff-2f664c27a8ce'}}, metadata={'source': 'input', 'step': -1, 'parents': {}}, created_at='2025-10-24T18:20:33.005475+00:00', parent_config=None, tasks=(PregelTask(id='e2e14f03-a307-836e-06b1-f81584a816a1', name='__start__', path=('__pregel_pull', '__start__'), error=None, interrupts=(), state=None, result={'topic': 'politics'}),), interrupts=())]"
      ]
     },
     "execution_count": 14,
     "metadata": {},
     "output_type": "execute_result"
    }
   ],
   "source": [
    "list(workflow.get_state_history(config1))"
   ]
  },
  {
   "cell_type": "markdown",
   "id": "555dbfe1",
   "metadata": {},
   "source": [
    "## **Updating State**"
   ]
  },
  {
   "cell_type": "code",
   "execution_count": 15,
   "id": "d353a19c",
   "metadata": {},
   "outputs": [
    {
     "data": {
      "text/plain": [
       "{'configurable': {'thread_id': '1',\n",
       "  'checkpoint_ns': '',\n",
       "  'checkpoint_id': '1f0b1069-3125-6204-8000-7c7a5fe19cca'}}"
      ]
     },
     "execution_count": 15,
     "metadata": {},
     "output_type": "execute_result"
    }
   ],
   "source": [
    "workflow.update_state(\n",
    "    {\n",
    "        \"configurable\": {\n",
    "            \"thread_id\": \"1\",\n",
    "            \"checkpoint_ns\": \"\",\n",
    "            \"checkpoint_id\": '1f0b1062-1000-64c2-bfff-2f664c27a8ce'\n",
    "        }\n",
    "    },\n",
    "    {\"topic\": \"trip\"}\n",
    ")\n"
   ]
  },
  {
   "cell_type": "code",
   "execution_count": 16,
   "id": "710ac7f3",
   "metadata": {},
   "outputs": [
    {
     "data": {
      "text/plain": [
       "[StateSnapshot(values={'topic': 'trip'}, next=('generate_joke',), config={'configurable': {'thread_id': '1', 'checkpoint_ns': '', 'checkpoint_id': '1f0b1069-3125-6204-8000-7c7a5fe19cca'}}, metadata={'source': 'update', 'step': 0, 'parents': {}}, created_at='2025-10-24T18:23:44.385682+00:00', parent_config={'configurable': {'thread_id': '1', 'checkpoint_ns': '', 'checkpoint_id': '1f0b1062-1000-64c2-bfff-2f664c27a8ce'}}, tasks=(PregelTask(id='39401a6c-9236-9ca8-1b43-aa0a90191d69', name='generate_joke', path=('__pregel_pull', 'generate_joke'), error=None, interrupts=(), state=None, result=None),), interrupts=()),\n",
       " StateSnapshot(values={'topic': 'politics', 'joke': 'A politician is on a campaign tour in the countryside and wants a good photo opportunity. He sees an old farmer leaning on a fence.\\n\\nThe politician walks over, shakes the farmer\\'s hand, and says, \"I see you\\'ve got a problem with this fence post. It\\'s all crooked. It\\'s a perfect example of the neglect our communities have faced!\"\\n\\nTo show he\\'s a man of action, the politician grabs the post, and with a great deal of grunting and effort for the cameras, he yanks it perfectly straight.\\n\\nHe turns to the farmer, beaming, and says, \"There! Good as new!\"\\n\\nThe farmer slowly shakes his head and says, \"Well, you\\'ve just ruined it. For ten years, that\\'s been the only post the pigs could find that was bent just right for a good back-scratchin\\'.\"', 'explanation': 'Of course! This is a classic joke that works on several levels. Here\\'s a breakdown of why it\\'s funny:\\n\\n### The Core of the Joke\\n\\nThe humor comes from the massive misunderstanding between the politician and the farmer, which highlights a sharp contrast in their perspectives:\\n\\n*   **The Politician\\'s Perspective:** He sees the world through the lens of **image and symbolism**. To him, a crooked fence post is a symbol of neglect, decay, and government failure. \"Fixing\" it is a powerful, visual metaphor for how he will \"fix\" the community. His action is performative, designed for cameras and public approval.\\n\\n*   **The Farmer\\'s Perspective:** He sees the world through the lens of **practicality and function**. To him, the fence post isn\\'t a symbol; it\\'s a tool. Its value isn\\'t in its perfect appearance but in its usefulness. The very \"flaw\" the politician saw—its crookedness—was actually its most important feature.\\n\\n### Breaking Down the Humor\\n\\n1.  **The Anti-Climax:** The politician puts on a big, heroic show, expecting gratitude and admiration. The punchline completely deflates his grand gesture. His \"solution\" was not only unnecessary but actively harmful.\\n\\n2.  **Satire of Politicians:** The joke is a sharp critique of a certain type of politician. It pokes fun at those who:\\n    *   Are out of touch with the real needs of the people they claim to serve.\\n    *   Offer simplistic solutions to problems they don\\'t understand.\\n    *   Are more concerned with photo opportunities and appearing to be \"a man of action\" than with genuinely helping.\\n    *   Assume they know best without ever asking the local people what they actually need.\\n\\n3.  **Urban vs. Rural Wisdom:** It\\'s a classic \"city slicker vs. wise country folk\" setup. The politician, representing an outside, top-down authority, imposes his idea of \"order\" and \"correctness\" on a situation. The farmer, with his grounded, local knowledge, reveals how foolish that imposition is. The \"problem\" only existed in the politician\\'s mind.\\n\\nIn short, the joke is funny because the politician, in his arrogant attempt to create a perfect photo op, completely misses the point and ends up \"fixing\" something that was never broken, much to the farmer\\'s (and the pigs\\') dismay.'}, next=(), config={'configurable': {'thread_id': '1', 'checkpoint_ns': '', 'checkpoint_id': '1f0b1068-dfb9-6424-8002-79b2fa960fd8'}}, metadata={'source': 'loop', 'step': 2, 'parents': {}}, created_at='2025-10-24T18:23:35.847996+00:00', parent_config={'configurable': {'thread_id': '1', 'checkpoint_ns': '', 'checkpoint_id': '1f0b1068-158b-6260-8001-2f4a3e2056df'}}, tasks=(), interrupts=()),\n",
       " StateSnapshot(values={'topic': 'politics', 'joke': 'A politician is on a campaign tour in the countryside and wants a good photo opportunity. He sees an old farmer leaning on a fence.\\n\\nThe politician walks over, shakes the farmer\\'s hand, and says, \"I see you\\'ve got a problem with this fence post. It\\'s all crooked. It\\'s a perfect example of the neglect our communities have faced!\"\\n\\nTo show he\\'s a man of action, the politician grabs the post, and with a great deal of grunting and effort for the cameras, he yanks it perfectly straight.\\n\\nHe turns to the farmer, beaming, and says, \"There! Good as new!\"\\n\\nThe farmer slowly shakes his head and says, \"Well, you\\'ve just ruined it. For ten years, that\\'s been the only post the pigs could find that was bent just right for a good back-scratchin\\'.\"'}, next=('generate_explanation',), config={'configurable': {'thread_id': '1', 'checkpoint_ns': '', 'checkpoint_id': '1f0b1068-158b-6260-8001-2f4a3e2056df'}}, metadata={'source': 'loop', 'step': 1, 'parents': {}}, created_at='2025-10-24T18:23:14.647889+00:00', parent_config={'configurable': {'thread_id': '1', 'checkpoint_ns': '', 'checkpoint_id': '1f0b1062-1004-6982-8000-0167ceb0037d'}}, tasks=(PregelTask(id='6e9162a1-f86c-203e-45ec-a2c0a3d1f109', name='generate_explanation', path=('__pregel_pull', 'generate_explanation'), error=None, interrupts=(), state=None, result={'explanation': 'Of course! This is a classic joke that works on several levels. Here\\'s a breakdown of why it\\'s funny:\\n\\n### The Core of the Joke\\n\\nThe humor comes from the massive misunderstanding between the politician and the farmer, which highlights a sharp contrast in their perspectives:\\n\\n*   **The Politician\\'s Perspective:** He sees the world through the lens of **image and symbolism**. To him, a crooked fence post is a symbol of neglect, decay, and government failure. \"Fixing\" it is a powerful, visual metaphor for how he will \"fix\" the community. His action is performative, designed for cameras and public approval.\\n\\n*   **The Farmer\\'s Perspective:** He sees the world through the lens of **practicality and function**. To him, the fence post isn\\'t a symbol; it\\'s a tool. Its value isn\\'t in its perfect appearance but in its usefulness. The very \"flaw\" the politician saw—its crookedness—was actually its most important feature.\\n\\n### Breaking Down the Humor\\n\\n1.  **The Anti-Climax:** The politician puts on a big, heroic show, expecting gratitude and admiration. The punchline completely deflates his grand gesture. His \"solution\" was not only unnecessary but actively harmful.\\n\\n2.  **Satire of Politicians:** The joke is a sharp critique of a certain type of politician. It pokes fun at those who:\\n    *   Are out of touch with the real needs of the people they claim to serve.\\n    *   Offer simplistic solutions to problems they don\\'t understand.\\n    *   Are more concerned with photo opportunities and appearing to be \"a man of action\" than with genuinely helping.\\n    *   Assume they know best without ever asking the local people what they actually need.\\n\\n3.  **Urban vs. Rural Wisdom:** It\\'s a classic \"city slicker vs. wise country folk\" setup. The politician, representing an outside, top-down authority, imposes his idea of \"order\" and \"correctness\" on a situation. The farmer, with his grounded, local knowledge, reveals how foolish that imposition is. The \"problem\" only existed in the politician\\'s mind.\\n\\nIn short, the joke is funny because the politician, in his arrogant attempt to create a perfect photo op, completely misses the point and ends up \"fixing\" something that was never broken, much to the farmer\\'s (and the pigs\\') dismay.'}),), interrupts=()),\n",
       " StateSnapshot(values={'topic': 'politics', 'joke': 'A politician was touring a farm and, trying to get a good photo op, hopped onto a fence railing. The railing broke, and he fell into a deep slurry pit.\\n\\nHe started sinking and screaming for help. The farmer ran over and yelled down, \"Give me your hand!\"\\n\\nThe politician just kept flailing and screaming, sinking deeper.\\n\\nThe farmer yelled again, \"Give me your hand!\"\\n\\nStill, nothing. The politician was almost submerged.\\n\\nThe farmer, a wise old man, thought for a second and then yelled, \"Okay, *take* my hand!\"\\n\\nThe politician immediately reached up, grabbed the farmer\\'s hand, and was pulled to safety.\\n\\nOnce he was cleaned off, the dazed politician asked, \"How did you know to say that?\"\\n\\nThe farmer sighed. \"I\\'ve been around a while. I know a politician will never *give* you anything.\"', 'explanation': 'Of course! This is a classic joke that plays on a common stereotype. Here\\'s a breakdown of why it\\'s funny:\\n\\n### The Core of the Joke\\n\\nThe humor comes from the stereotype that **politicians are fundamentally takers, not givers.** The joke sets up an absurd, life-or-death situation to show how deeply ingrained this trait is.\\n\\n### Step-by-Step Explanation\\n\\n1.  **The Setup:** A politician is on a farm for a \"photo op,\" which immediately frames him as someone more concerned with image than substance. He falls into a slurry pit (a gross, embarrassing, and dangerous situation), making him completely helpless.\\n\\n2.  **The Initial Problem:** The farmer\\'s first attempt to help is the most natural human response: \"Give me your hand!\" This is a request for the politician to perform an act of *giving*. According to the joke\\'s logic, this is something the politician is psychologically incapable of doing.\\n\\n3.  **The Twist:** The politician continues to sink, ignoring the offer of help. This is the puzzling part of the joke. A drowning person wouldn\\'t normally refuse a helping hand. The listener is left wondering why.\\n\\n4.  **The Solution:** The \"wise\" farmer understands the politician\\'s nature. He changes his phrasing from a request (\"Give me...\") to an offer (\"Take...\"). By saying, **\"Okay, *take* my hand!\"**, he reframes the rescue as an act of *taking* for the politician. This aligns with the politician\\'s supposed instinct, and he immediately responds.\\n\\n5.  **The Punchline:** The farmer\\'s final line makes the stereotype explicit: **\"I know a politician will never *give* you anything.\"** This confirms that the politician\\'s bizarre behavior wasn\\'t out of panic or confusion, but because his fundamental nature as a \"taker\" overrode even his basic survival instinct.\\n\\nIn short, the joke humorously suggests that a politician\\'s instinct to take is so powerful that they would rather drown than perform an act of giving, even to save their own life.'}, next=(), config={'configurable': {'thread_id': '1', 'checkpoint_ns': '', 'checkpoint_id': '1f0b1064-1e12-66bc-8002-2f3f452969b0'}}, metadata={'source': 'loop', 'step': 2, 'parents': {}}, created_at='2025-10-24T18:21:28.167949+00:00', parent_config={'configurable': {'thread_id': '1', 'checkpoint_ns': '', 'checkpoint_id': '1f0b1063-34bb-640a-8001-062e4f2c803c'}}, tasks=(), interrupts=()),\n",
       " StateSnapshot(values={'topic': 'politics', 'joke': 'A politician was touring a farm and, trying to get a good photo op, hopped onto a fence railing. The railing broke, and he fell into a deep slurry pit.\\n\\nHe started sinking and screaming for help. The farmer ran over and yelled down, \"Give me your hand!\"\\n\\nThe politician just kept flailing and screaming, sinking deeper.\\n\\nThe farmer yelled again, \"Give me your hand!\"\\n\\nStill, nothing. The politician was almost submerged.\\n\\nThe farmer, a wise old man, thought for a second and then yelled, \"Okay, *take* my hand!\"\\n\\nThe politician immediately reached up, grabbed the farmer\\'s hand, and was pulled to safety.\\n\\nOnce he was cleaned off, the dazed politician asked, \"How did you know to say that?\"\\n\\nThe farmer sighed. \"I\\'ve been around a while. I know a politician will never *give* you anything.\"'}, next=('generate_explanation',), config={'configurable': {'thread_id': '1', 'checkpoint_ns': '', 'checkpoint_id': '1f0b1063-34bb-640a-8001-062e4f2c803c'}}, metadata={'source': 'loop', 'step': 1, 'parents': {}}, created_at='2025-10-24T18:21:03.700432+00:00', parent_config={'configurable': {'thread_id': '1', 'checkpoint_ns': '', 'checkpoint_id': '1f0b1062-1004-6982-8000-0167ceb0037d'}}, tasks=(PregelTask(id='d9de98ff-9aae-78d0-b073-612ed31ea2e4', name='generate_explanation', path=('__pregel_pull', 'generate_explanation'), error=None, interrupts=(), state=None, result={'explanation': 'Of course! This is a classic joke that plays on a common stereotype. Here\\'s a breakdown of why it\\'s funny:\\n\\n### The Core of the Joke\\n\\nThe humor comes from the stereotype that **politicians are fundamentally takers, not givers.** The joke sets up an absurd, life-or-death situation to show how deeply ingrained this trait is.\\n\\n### Step-by-Step Explanation\\n\\n1.  **The Setup:** A politician is on a farm for a \"photo op,\" which immediately frames him as someone more concerned with image than substance. He falls into a slurry pit (a gross, embarrassing, and dangerous situation), making him completely helpless.\\n\\n2.  **The Initial Problem:** The farmer\\'s first attempt to help is the most natural human response: \"Give me your hand!\" This is a request for the politician to perform an act of *giving*. According to the joke\\'s logic, this is something the politician is psychologically incapable of doing.\\n\\n3.  **The Twist:** The politician continues to sink, ignoring the offer of help. This is the puzzling part of the joke. A drowning person wouldn\\'t normally refuse a helping hand. The listener is left wondering why.\\n\\n4.  **The Solution:** The \"wise\" farmer understands the politician\\'s nature. He changes his phrasing from a request (\"Give me...\") to an offer (\"Take...\"). By saying, **\"Okay, *take* my hand!\"**, he reframes the rescue as an act of *taking* for the politician. This aligns with the politician\\'s supposed instinct, and he immediately responds.\\n\\n5.  **The Punchline:** The farmer\\'s final line makes the stereotype explicit: **\"I know a politician will never *give* you anything.\"** This confirms that the politician\\'s bizarre behavior wasn\\'t out of panic or confusion, but because his fundamental nature as a \"taker\" overrode even his basic survival instinct.\\n\\nIn short, the joke humorously suggests that a politician\\'s instinct to take is so powerful that they would rather drown than perform an act of giving, even to save their own life.'}),), interrupts=()),\n",
       " StateSnapshot(values={'topic': 'politics'}, next=('generate_joke',), config={'configurable': {'thread_id': '1', 'checkpoint_ns': '', 'checkpoint_id': '1f0b1062-1004-6982-8000-0167ceb0037d'}}, metadata={'source': 'loop', 'step': 0, 'parents': {}}, created_at='2025-10-24T18:20:33.007225+00:00', parent_config={'configurable': {'thread_id': '1', 'checkpoint_ns': '', 'checkpoint_id': '1f0b1062-1000-64c2-bfff-2f664c27a8ce'}}, tasks=(PregelTask(id='d90ea0d8-6311-e2a3-145d-7a33d1763278', name='generate_joke', path=('__pregel_pull', 'generate_joke'), error=None, interrupts=(), state=None, result={'joke': 'A politician was touring a farm and, trying to get a good photo op, hopped onto a fence railing. The railing broke, and he fell into a deep slurry pit.\\n\\nHe started sinking and screaming for help. The farmer ran over and yelled down, \"Give me your hand!\"\\n\\nThe politician just kept flailing and screaming, sinking deeper.\\n\\nThe farmer yelled again, \"Give me your hand!\"\\n\\nStill, nothing. The politician was almost submerged.\\n\\nThe farmer, a wise old man, thought for a second and then yelled, \"Okay, *take* my hand!\"\\n\\nThe politician immediately reached up, grabbed the farmer\\'s hand, and was pulled to safety.\\n\\nOnce he was cleaned off, the dazed politician asked, \"How did you know to say that?\"\\n\\nThe farmer sighed. \"I\\'ve been around a while. I know a politician will never *give* you anything.\"'}),), interrupts=()),\n",
       " StateSnapshot(values={}, next=('__start__',), config={'configurable': {'thread_id': '1', 'checkpoint_ns': '', 'checkpoint_id': '1f0b1062-1000-64c2-bfff-2f664c27a8ce'}}, metadata={'source': 'input', 'step': -1, 'parents': {}}, created_at='2025-10-24T18:20:33.005475+00:00', parent_config=None, tasks=(PregelTask(id='e2e14f03-a307-836e-06b1-f81584a816a1', name='__start__', path=('__pregel_pull', '__start__'), error=None, interrupts=(), state=None, result={'topic': 'politics'}),), interrupts=())]"
      ]
     },
     "execution_count": 16,
     "metadata": {},
     "output_type": "execute_result"
    }
   ],
   "source": [
    "list(workflow.get_state_history(config1))"
   ]
  },
  {
   "cell_type": "code",
   "execution_count": 17,
   "id": "0ce0b262",
   "metadata": {},
   "outputs": [
    {
     "data": {
      "text/plain": [
       "{'topic': 'trip',\n",
       " 'joke': 'I just got back from a trip.\\n\\n\"Oh, nice! Where did you go?\"\\n\\nDown the stairs, mostly.',\n",
       " 'explanation': 'Of course! This is a classic joke that relies on a **pun**, or a play on words.\\n\\nThe humor comes from the two different meanings of the word \"trip\":\\n\\n1.  **The Assumed Meaning:** A journey or a vacation. When the first person says, \"I just got back from a trip,\" the listener naturally assumes they went on a holiday.\\n\\n2.  **The Actual Meaning:** The act of stumbling or falling.\\n\\n**Here\\'s the breakdown:**\\n\\n*   **The Setup:** \"I just got back from a trip\" leads you to think about travel and destinations.\\n*   **The Reinforcement:** \"Oh, nice! Where did you go?\" confirms that the second person is thinking about a vacation.\\n*   **The Punchline:** \"Down the stairs, mostly\" reveals the speaker wasn\\'t on a vacation at all. They literally tripped and fell down the stairs.\\n\\nThe joke is funny because it subverts your expectations in a sudden and slightly dark, but relatable, way.'}"
      ]
     },
     "execution_count": 17,
     "metadata": {},
     "output_type": "execute_result"
    }
   ],
   "source": [
    "workflow.invoke(\n",
    "    None,\n",
    "    {\"configurable\": {\n",
    "        \"thread_id\": \"1\",\n",
    "        \"checkpoint_id\": \"1f0b1069-3125-6204-8000-7c7a5fe19cca\"\n",
    "    }}\n",
    ")\n"
   ]
  },
  {
   "cell_type": "code",
   "execution_count": 18,
   "id": "7fd7c2de",
   "metadata": {},
   "outputs": [
    {
     "data": {
      "text/plain": [
       "[StateSnapshot(values={'topic': 'trip', 'joke': 'I just got back from a trip.\\n\\n\"Oh, nice! Where did you go?\"\\n\\nDown the stairs, mostly.', 'explanation': 'Of course! This is a classic joke that relies on a **pun**, or a play on words.\\n\\nThe humor comes from the two different meanings of the word \"trip\":\\n\\n1.  **The Assumed Meaning:** A journey or a vacation. When the first person says, \"I just got back from a trip,\" the listener naturally assumes they went on a holiday.\\n\\n2.  **The Actual Meaning:** The act of stumbling or falling.\\n\\n**Here\\'s the breakdown:**\\n\\n*   **The Setup:** \"I just got back from a trip\" leads you to think about travel and destinations.\\n*   **The Reinforcement:** \"Oh, nice! Where did you go?\" confirms that the second person is thinking about a vacation.\\n*   **The Punchline:** \"Down the stairs, mostly\" reveals the speaker wasn\\'t on a vacation at all. They literally tripped and fell down the stairs.\\n\\nThe joke is funny because it subverts your expectations in a sudden and slightly dark, but relatable, way.'}, next=(), config={'configurable': {'thread_id': '1', 'checkpoint_ns': '', 'checkpoint_id': '1f0b106b-4307-6150-8002-b1454fa92b7e'}}, metadata={'source': 'loop', 'step': 2, 'parents': {}}, created_at='2025-10-24T18:24:39.947868+00:00', parent_config={'configurable': {'thread_id': '1', 'checkpoint_ns': '', 'checkpoint_id': '1f0b106a-bd37-670a-8001-2981880af311'}}, tasks=(), interrupts=()),\n",
       " StateSnapshot(values={'topic': 'trip', 'joke': 'I just got back from a trip.\\n\\n\"Oh, nice! Where did you go?\"\\n\\nDown the stairs, mostly.'}, next=('generate_explanation',), config={'configurable': {'thread_id': '1', 'checkpoint_ns': '', 'checkpoint_id': '1f0b106a-bd37-670a-8001-2981880af311'}}, metadata={'source': 'loop', 'step': 1, 'parents': {}}, created_at='2025-10-24T18:24:25.916783+00:00', parent_config={'configurable': {'thread_id': '1', 'checkpoint_ns': '', 'checkpoint_id': '1f0b1069-3125-6204-8000-7c7a5fe19cca'}}, tasks=(PregelTask(id='c743996e-bef4-fd79-99c2-cda930f77e74', name='generate_explanation', path=('__pregel_pull', 'generate_explanation'), error=None, interrupts=(), state=None, result={'explanation': 'Of course! This is a classic joke that relies on a **pun**, or a play on words.\\n\\nThe humor comes from the two different meanings of the word \"trip\":\\n\\n1.  **The Assumed Meaning:** A journey or a vacation. When the first person says, \"I just got back from a trip,\" the listener naturally assumes they went on a holiday.\\n\\n2.  **The Actual Meaning:** The act of stumbling or falling.\\n\\n**Here\\'s the breakdown:**\\n\\n*   **The Setup:** \"I just got back from a trip\" leads you to think about travel and destinations.\\n*   **The Reinforcement:** \"Oh, nice! Where did you go?\" confirms that the second person is thinking about a vacation.\\n*   **The Punchline:** \"Down the stairs, mostly\" reveals the speaker wasn\\'t on a vacation at all. They literally tripped and fell down the stairs.\\n\\nThe joke is funny because it subverts your expectations in a sudden and slightly dark, but relatable, way.'}),), interrupts=()),\n",
       " StateSnapshot(values={'topic': 'trip'}, next=('generate_joke',), config={'configurable': {'thread_id': '1', 'checkpoint_ns': '', 'checkpoint_id': '1f0b1069-3125-6204-8000-7c7a5fe19cca'}}, metadata={'source': 'update', 'step': 0, 'parents': {}}, created_at='2025-10-24T18:23:44.385682+00:00', parent_config={'configurable': {'thread_id': '1', 'checkpoint_ns': '', 'checkpoint_id': '1f0b1062-1000-64c2-bfff-2f664c27a8ce'}}, tasks=(PregelTask(id='39401a6c-9236-9ca8-1b43-aa0a90191d69', name='generate_joke', path=('__pregel_pull', 'generate_joke'), error=None, interrupts=(), state=None, result={'joke': 'I just got back from a trip.\\n\\n\"Oh, nice! Where did you go?\"\\n\\nDown the stairs, mostly.'}),), interrupts=()),\n",
       " StateSnapshot(values={'topic': 'politics', 'joke': 'A politician is on a campaign tour in the countryside and wants a good photo opportunity. He sees an old farmer leaning on a fence.\\n\\nThe politician walks over, shakes the farmer\\'s hand, and says, \"I see you\\'ve got a problem with this fence post. It\\'s all crooked. It\\'s a perfect example of the neglect our communities have faced!\"\\n\\nTo show he\\'s a man of action, the politician grabs the post, and with a great deal of grunting and effort for the cameras, he yanks it perfectly straight.\\n\\nHe turns to the farmer, beaming, and says, \"There! Good as new!\"\\n\\nThe farmer slowly shakes his head and says, \"Well, you\\'ve just ruined it. For ten years, that\\'s been the only post the pigs could find that was bent just right for a good back-scratchin\\'.\"', 'explanation': 'Of course! This is a classic joke that works on several levels. Here\\'s a breakdown of why it\\'s funny:\\n\\n### The Core of the Joke\\n\\nThe humor comes from the massive misunderstanding between the politician and the farmer, which highlights a sharp contrast in their perspectives:\\n\\n*   **The Politician\\'s Perspective:** He sees the world through the lens of **image and symbolism**. To him, a crooked fence post is a symbol of neglect, decay, and government failure. \"Fixing\" it is a powerful, visual metaphor for how he will \"fix\" the community. His action is performative, designed for cameras and public approval.\\n\\n*   **The Farmer\\'s Perspective:** He sees the world through the lens of **practicality and function**. To him, the fence post isn\\'t a symbol; it\\'s a tool. Its value isn\\'t in its perfect appearance but in its usefulness. The very \"flaw\" the politician saw—its crookedness—was actually its most important feature.\\n\\n### Breaking Down the Humor\\n\\n1.  **The Anti-Climax:** The politician puts on a big, heroic show, expecting gratitude and admiration. The punchline completely deflates his grand gesture. His \"solution\" was not only unnecessary but actively harmful.\\n\\n2.  **Satire of Politicians:** The joke is a sharp critique of a certain type of politician. It pokes fun at those who:\\n    *   Are out of touch with the real needs of the people they claim to serve.\\n    *   Offer simplistic solutions to problems they don\\'t understand.\\n    *   Are more concerned with photo opportunities and appearing to be \"a man of action\" than with genuinely helping.\\n    *   Assume they know best without ever asking the local people what they actually need.\\n\\n3.  **Urban vs. Rural Wisdom:** It\\'s a classic \"city slicker vs. wise country folk\" setup. The politician, representing an outside, top-down authority, imposes his idea of \"order\" and \"correctness\" on a situation. The farmer, with his grounded, local knowledge, reveals how foolish that imposition is. The \"problem\" only existed in the politician\\'s mind.\\n\\nIn short, the joke is funny because the politician, in his arrogant attempt to create a perfect photo op, completely misses the point and ends up \"fixing\" something that was never broken, much to the farmer\\'s (and the pigs\\') dismay.'}, next=(), config={'configurable': {'thread_id': '1', 'checkpoint_ns': '', 'checkpoint_id': '1f0b1068-dfb9-6424-8002-79b2fa960fd8'}}, metadata={'source': 'loop', 'step': 2, 'parents': {}}, created_at='2025-10-24T18:23:35.847996+00:00', parent_config={'configurable': {'thread_id': '1', 'checkpoint_ns': '', 'checkpoint_id': '1f0b1068-158b-6260-8001-2f4a3e2056df'}}, tasks=(), interrupts=()),\n",
       " StateSnapshot(values={'topic': 'politics', 'joke': 'A politician is on a campaign tour in the countryside and wants a good photo opportunity. He sees an old farmer leaning on a fence.\\n\\nThe politician walks over, shakes the farmer\\'s hand, and says, \"I see you\\'ve got a problem with this fence post. It\\'s all crooked. It\\'s a perfect example of the neglect our communities have faced!\"\\n\\nTo show he\\'s a man of action, the politician grabs the post, and with a great deal of grunting and effort for the cameras, he yanks it perfectly straight.\\n\\nHe turns to the farmer, beaming, and says, \"There! Good as new!\"\\n\\nThe farmer slowly shakes his head and says, \"Well, you\\'ve just ruined it. For ten years, that\\'s been the only post the pigs could find that was bent just right for a good back-scratchin\\'.\"'}, next=('generate_explanation',), config={'configurable': {'thread_id': '1', 'checkpoint_ns': '', 'checkpoint_id': '1f0b1068-158b-6260-8001-2f4a3e2056df'}}, metadata={'source': 'loop', 'step': 1, 'parents': {}}, created_at='2025-10-24T18:23:14.647889+00:00', parent_config={'configurable': {'thread_id': '1', 'checkpoint_ns': '', 'checkpoint_id': '1f0b1062-1004-6982-8000-0167ceb0037d'}}, tasks=(PregelTask(id='6e9162a1-f86c-203e-45ec-a2c0a3d1f109', name='generate_explanation', path=('__pregel_pull', 'generate_explanation'), error=None, interrupts=(), state=None, result={'explanation': 'Of course! This is a classic joke that works on several levels. Here\\'s a breakdown of why it\\'s funny:\\n\\n### The Core of the Joke\\n\\nThe humor comes from the massive misunderstanding between the politician and the farmer, which highlights a sharp contrast in their perspectives:\\n\\n*   **The Politician\\'s Perspective:** He sees the world through the lens of **image and symbolism**. To him, a crooked fence post is a symbol of neglect, decay, and government failure. \"Fixing\" it is a powerful, visual metaphor for how he will \"fix\" the community. His action is performative, designed for cameras and public approval.\\n\\n*   **The Farmer\\'s Perspective:** He sees the world through the lens of **practicality and function**. To him, the fence post isn\\'t a symbol; it\\'s a tool. Its value isn\\'t in its perfect appearance but in its usefulness. The very \"flaw\" the politician saw—its crookedness—was actually its most important feature.\\n\\n### Breaking Down the Humor\\n\\n1.  **The Anti-Climax:** The politician puts on a big, heroic show, expecting gratitude and admiration. The punchline completely deflates his grand gesture. His \"solution\" was not only unnecessary but actively harmful.\\n\\n2.  **Satire of Politicians:** The joke is a sharp critique of a certain type of politician. It pokes fun at those who:\\n    *   Are out of touch with the real needs of the people they claim to serve.\\n    *   Offer simplistic solutions to problems they don\\'t understand.\\n    *   Are more concerned with photo opportunities and appearing to be \"a man of action\" than with genuinely helping.\\n    *   Assume they know best without ever asking the local people what they actually need.\\n\\n3.  **Urban vs. Rural Wisdom:** It\\'s a classic \"city slicker vs. wise country folk\" setup. The politician, representing an outside, top-down authority, imposes his idea of \"order\" and \"correctness\" on a situation. The farmer, with his grounded, local knowledge, reveals how foolish that imposition is. The \"problem\" only existed in the politician\\'s mind.\\n\\nIn short, the joke is funny because the politician, in his arrogant attempt to create a perfect photo op, completely misses the point and ends up \"fixing\" something that was never broken, much to the farmer\\'s (and the pigs\\') dismay.'}),), interrupts=()),\n",
       " StateSnapshot(values={'topic': 'politics', 'joke': 'A politician was touring a farm and, trying to get a good photo op, hopped onto a fence railing. The railing broke, and he fell into a deep slurry pit.\\n\\nHe started sinking and screaming for help. The farmer ran over and yelled down, \"Give me your hand!\"\\n\\nThe politician just kept flailing and screaming, sinking deeper.\\n\\nThe farmer yelled again, \"Give me your hand!\"\\n\\nStill, nothing. The politician was almost submerged.\\n\\nThe farmer, a wise old man, thought for a second and then yelled, \"Okay, *take* my hand!\"\\n\\nThe politician immediately reached up, grabbed the farmer\\'s hand, and was pulled to safety.\\n\\nOnce he was cleaned off, the dazed politician asked, \"How did you know to say that?\"\\n\\nThe farmer sighed. \"I\\'ve been around a while. I know a politician will never *give* you anything.\"', 'explanation': 'Of course! This is a classic joke that plays on a common stereotype. Here\\'s a breakdown of why it\\'s funny:\\n\\n### The Core of the Joke\\n\\nThe humor comes from the stereotype that **politicians are fundamentally takers, not givers.** The joke sets up an absurd, life-or-death situation to show how deeply ingrained this trait is.\\n\\n### Step-by-Step Explanation\\n\\n1.  **The Setup:** A politician is on a farm for a \"photo op,\" which immediately frames him as someone more concerned with image than substance. He falls into a slurry pit (a gross, embarrassing, and dangerous situation), making him completely helpless.\\n\\n2.  **The Initial Problem:** The farmer\\'s first attempt to help is the most natural human response: \"Give me your hand!\" This is a request for the politician to perform an act of *giving*. According to the joke\\'s logic, this is something the politician is psychologically incapable of doing.\\n\\n3.  **The Twist:** The politician continues to sink, ignoring the offer of help. This is the puzzling part of the joke. A drowning person wouldn\\'t normally refuse a helping hand. The listener is left wondering why.\\n\\n4.  **The Solution:** The \"wise\" farmer understands the politician\\'s nature. He changes his phrasing from a request (\"Give me...\") to an offer (\"Take...\"). By saying, **\"Okay, *take* my hand!\"**, he reframes the rescue as an act of *taking* for the politician. This aligns with the politician\\'s supposed instinct, and he immediately responds.\\n\\n5.  **The Punchline:** The farmer\\'s final line makes the stereotype explicit: **\"I know a politician will never *give* you anything.\"** This confirms that the politician\\'s bizarre behavior wasn\\'t out of panic or confusion, but because his fundamental nature as a \"taker\" overrode even his basic survival instinct.\\n\\nIn short, the joke humorously suggests that a politician\\'s instinct to take is so powerful that they would rather drown than perform an act of giving, even to save their own life.'}, next=(), config={'configurable': {'thread_id': '1', 'checkpoint_ns': '', 'checkpoint_id': '1f0b1064-1e12-66bc-8002-2f3f452969b0'}}, metadata={'source': 'loop', 'step': 2, 'parents': {}}, created_at='2025-10-24T18:21:28.167949+00:00', parent_config={'configurable': {'thread_id': '1', 'checkpoint_ns': '', 'checkpoint_id': '1f0b1063-34bb-640a-8001-062e4f2c803c'}}, tasks=(), interrupts=()),\n",
       " StateSnapshot(values={'topic': 'politics', 'joke': 'A politician was touring a farm and, trying to get a good photo op, hopped onto a fence railing. The railing broke, and he fell into a deep slurry pit.\\n\\nHe started sinking and screaming for help. The farmer ran over and yelled down, \"Give me your hand!\"\\n\\nThe politician just kept flailing and screaming, sinking deeper.\\n\\nThe farmer yelled again, \"Give me your hand!\"\\n\\nStill, nothing. The politician was almost submerged.\\n\\nThe farmer, a wise old man, thought for a second and then yelled, \"Okay, *take* my hand!\"\\n\\nThe politician immediately reached up, grabbed the farmer\\'s hand, and was pulled to safety.\\n\\nOnce he was cleaned off, the dazed politician asked, \"How did you know to say that?\"\\n\\nThe farmer sighed. \"I\\'ve been around a while. I know a politician will never *give* you anything.\"'}, next=('generate_explanation',), config={'configurable': {'thread_id': '1', 'checkpoint_ns': '', 'checkpoint_id': '1f0b1063-34bb-640a-8001-062e4f2c803c'}}, metadata={'source': 'loop', 'step': 1, 'parents': {}}, created_at='2025-10-24T18:21:03.700432+00:00', parent_config={'configurable': {'thread_id': '1', 'checkpoint_ns': '', 'checkpoint_id': '1f0b1062-1004-6982-8000-0167ceb0037d'}}, tasks=(PregelTask(id='d9de98ff-9aae-78d0-b073-612ed31ea2e4', name='generate_explanation', path=('__pregel_pull', 'generate_explanation'), error=None, interrupts=(), state=None, result={'explanation': 'Of course! This is a classic joke that plays on a common stereotype. Here\\'s a breakdown of why it\\'s funny:\\n\\n### The Core of the Joke\\n\\nThe humor comes from the stereotype that **politicians are fundamentally takers, not givers.** The joke sets up an absurd, life-or-death situation to show how deeply ingrained this trait is.\\n\\n### Step-by-Step Explanation\\n\\n1.  **The Setup:** A politician is on a farm for a \"photo op,\" which immediately frames him as someone more concerned with image than substance. He falls into a slurry pit (a gross, embarrassing, and dangerous situation), making him completely helpless.\\n\\n2.  **The Initial Problem:** The farmer\\'s first attempt to help is the most natural human response: \"Give me your hand!\" This is a request for the politician to perform an act of *giving*. According to the joke\\'s logic, this is something the politician is psychologically incapable of doing.\\n\\n3.  **The Twist:** The politician continues to sink, ignoring the offer of help. This is the puzzling part of the joke. A drowning person wouldn\\'t normally refuse a helping hand. The listener is left wondering why.\\n\\n4.  **The Solution:** The \"wise\" farmer understands the politician\\'s nature. He changes his phrasing from a request (\"Give me...\") to an offer (\"Take...\"). By saying, **\"Okay, *take* my hand!\"**, he reframes the rescue as an act of *taking* for the politician. This aligns with the politician\\'s supposed instinct, and he immediately responds.\\n\\n5.  **The Punchline:** The farmer\\'s final line makes the stereotype explicit: **\"I know a politician will never *give* you anything.\"** This confirms that the politician\\'s bizarre behavior wasn\\'t out of panic or confusion, but because his fundamental nature as a \"taker\" overrode even his basic survival instinct.\\n\\nIn short, the joke humorously suggests that a politician\\'s instinct to take is so powerful that they would rather drown than perform an act of giving, even to save their own life.'}),), interrupts=()),\n",
       " StateSnapshot(values={'topic': 'politics'}, next=('generate_joke',), config={'configurable': {'thread_id': '1', 'checkpoint_ns': '', 'checkpoint_id': '1f0b1062-1004-6982-8000-0167ceb0037d'}}, metadata={'source': 'loop', 'step': 0, 'parents': {}}, created_at='2025-10-24T18:20:33.007225+00:00', parent_config={'configurable': {'thread_id': '1', 'checkpoint_ns': '', 'checkpoint_id': '1f0b1062-1000-64c2-bfff-2f664c27a8ce'}}, tasks=(PregelTask(id='d90ea0d8-6311-e2a3-145d-7a33d1763278', name='generate_joke', path=('__pregel_pull', 'generate_joke'), error=None, interrupts=(), state=None, result={'joke': 'A politician was touring a farm and, trying to get a good photo op, hopped onto a fence railing. The railing broke, and he fell into a deep slurry pit.\\n\\nHe started sinking and screaming for help. The farmer ran over and yelled down, \"Give me your hand!\"\\n\\nThe politician just kept flailing and screaming, sinking deeper.\\n\\nThe farmer yelled again, \"Give me your hand!\"\\n\\nStill, nothing. The politician was almost submerged.\\n\\nThe farmer, a wise old man, thought for a second and then yelled, \"Okay, *take* my hand!\"\\n\\nThe politician immediately reached up, grabbed the farmer\\'s hand, and was pulled to safety.\\n\\nOnce he was cleaned off, the dazed politician asked, \"How did you know to say that?\"\\n\\nThe farmer sighed. \"I\\'ve been around a while. I know a politician will never *give* you anything.\"'}),), interrupts=()),\n",
       " StateSnapshot(values={}, next=('__start__',), config={'configurable': {'thread_id': '1', 'checkpoint_ns': '', 'checkpoint_id': '1f0b1062-1000-64c2-bfff-2f664c27a8ce'}}, metadata={'source': 'input', 'step': -1, 'parents': {}}, created_at='2025-10-24T18:20:33.005475+00:00', parent_config=None, tasks=(PregelTask(id='e2e14f03-a307-836e-06b1-f81584a816a1', name='__start__', path=('__pregel_pull', '__start__'), error=None, interrupts=(), state=None, result={'topic': 'politics'}),), interrupts=())]"
      ]
     },
     "execution_count": 18,
     "metadata": {},
     "output_type": "execute_result"
    }
   ],
   "source": [
    "list(workflow.get_state_history(config1))"
   ]
  },
  {
   "cell_type": "markdown",
   "id": "3452979a",
   "metadata": {},
   "source": [
    "## **Fault Tolerance**"
   ]
  },
  {
   "cell_type": "code",
   "execution_count": 19,
   "id": "4e86b7ab",
   "metadata": {},
   "outputs": [],
   "source": [
    "import time"
   ]
  },
  {
   "cell_type": "code",
   "execution_count": 20,
   "id": "4b73994c",
   "metadata": {},
   "outputs": [],
   "source": [
    "class CrashState(TypedDict):\n",
    "    input: str\n",
    "    step1: str\n",
    "    step2: str\n",
    "    step3: str"
   ]
  },
  {
   "cell_type": "code",
   "execution_count": 21,
   "id": "3dce7754",
   "metadata": {},
   "outputs": [],
   "source": [
    "def step_1(state: CrashState):\n",
    "    print(\"Executing Step 1\")\n",
    "    return {\"step1\": \"done\", \"input\": state[\"input\"]}\n",
    "\n",
    "def step_2(state: CrashState):\n",
    "    print(\"Executing Step 2, now manually interrupt the kernel to simulate a crash.\")\n",
    "    time.sleep(30)\n",
    "    return {\"step2\": \"done\"}\n",
    "\n",
    "def step_3(state: CrashState):\n",
    "    print(\"Executing Step 3\")\n",
    "    return {\"step3\": \"done\"}\n",
    "    "
   ]
  },
  {
   "cell_type": "code",
   "execution_count": 22,
   "id": "16a106a2",
   "metadata": {},
   "outputs": [],
   "source": [
    "graph = StateGraph(CrashState)\n",
    "graph.add_node(\"step_1\", step_1)\n",
    "graph.add_node(\"step_2\", step_2)\n",
    "graph.add_node(\"step_3\", step_3)\n",
    "\n",
    "graph.add_edge(START, \"step_1\")\n",
    "graph.add_edge(\"step_1\", \"step_2\")\n",
    "graph.add_edge(\"step_2\", \"step_3\")\n",
    "graph.add_edge(\"step_3\", END)\n",
    "\n",
    "checkpoint_saver = InMemorySaver()\n",
    "workflow = graph.compile(checkpointer=checkpoint_saver)"
   ]
  },
  {
   "cell_type": "code",
   "execution_count": 23,
   "id": "c7213d66",
   "metadata": {},
   "outputs": [
    {
     "data": {
      "image/png": "[encoded data removed]",
      "text/plain": [
       "<langgraph.graph.state.CompiledStateGraph object at 0x11245ba00>"
      ]
     },
     "execution_count": 23,
     "metadata": {},
     "output_type": "execute_result"
    }
   ],
   "source": [
    "workflow"
   ]
  },
  {
   "cell_type": "code",
   "execution_count": 24,
   "id": "6d6dcea0",
   "metadata": {},
   "outputs": [
    {
     "name": "stdout",
     "output_type": "stream",
     "text": [
      "Starting workflow execution...\n",
      "Executing Step 1\n",
      "Executing Step 2, now manually interrupt the kernel to simulate a crash.\n",
      "Workflow interrupted! Simulating crash...\n"
     ]
    }
   ],
   "source": [
    "try:\n",
    "    print(\"Starting workflow execution...\")\n",
    "    workflow.invoke({\"input\": \"Test input\"}, config={\"configurable\": {\"thread_id\": \"crash_test\"}})\n",
    "except KeyboardInterrupt:\n",
    "    print(\"Workflow interrupted! Simulating crash...\")"
   ]
  },
  {
   "cell_type": "code",
   "execution_count": 25,
   "id": "a9e0b89b",
   "metadata": {},
   "outputs": [
    {
     "data": {
      "text/plain": [
       "StateSnapshot(values={'input': 'Test input', 'step1': 'done'}, next=('step_2',), config={'configurable': {'thread_id': 'crash_test', 'checkpoint_ns': '', 'checkpoint_id': '1f0b1073-8f6e-6158-8001-59b6765a6ef3'}}, metadata={'source': 'loop', 'step': 1, 'parents': {}}, created_at='2025-10-24T18:28:22.707636+00:00', parent_config={'configurable': {'thread_id': 'crash_test', 'checkpoint_ns': '', 'checkpoint_id': '1f0b1073-8f6c-6e8e-8000-5ebc4863b937'}}, tasks=(PregelTask(id='885154da-c729-f39b-c39f-5b23d956c6b3', name='step_2', path=('__pregel_pull', 'step_2'), error=None, interrupts=(), state=None, result=None),), interrupts=())"
      ]
     },
     "execution_count": 25,
     "metadata": {},
     "output_type": "execute_result"
    }
   ],
   "source": [
    "workflow.get_state(config={\"configurable\": {\"thread_id\": \"crash_test\"}})"
   ]
  },
  {
   "cell_type": "code",
   "execution_count": 26,
   "id": "27dc8a93",
   "metadata": {},
   "outputs": [
    {
     "data": {
      "text/plain": [
       "<generator object Pregel.get_state_history at 0x112514d60>"
      ]
     },
     "execution_count": 26,
     "metadata": {},
     "output_type": "execute_result"
    }
   ],
   "source": [
    "workflow.get_state_history(config={\"configurable\": {\"thread_id\": \"crash_test\"}})"
   ]
  },
  {
   "cell_type": "code",
   "execution_count": 27,
   "id": "7e2a41ff",
   "metadata": {},
   "outputs": [
    {
     "data": {
      "text/plain": [
       "[StateSnapshot(values={'input': 'Test input', 'step1': 'done'}, next=('step_2',), config={'configurable': {'thread_id': 'crash_test', 'checkpoint_ns': '', 'checkpoint_id': '1f0b1073-8f6e-6158-8001-59b6765a6ef3'}}, metadata={'source': 'loop', 'step': 1, 'parents': {}}, created_at='2025-10-24T18:28:22.707636+00:00', parent_config={'configurable': {'thread_id': 'crash_test', 'checkpoint_ns': '', 'checkpoint_id': '1f0b1073-8f6c-6e8e-8000-5ebc4863b937'}}, tasks=(PregelTask(id='885154da-c729-f39b-c39f-5b23d956c6b3', name='step_2', path=('__pregel_pull', 'step_2'), error=None, interrupts=(), state=None, result=None),), interrupts=()),\n",
       " StateSnapshot(values={'input': 'Test input'}, next=('step_1',), config={'configurable': {'thread_id': 'crash_test', 'checkpoint_ns': '', 'checkpoint_id': '1f0b1073-8f6c-6e8e-8000-5ebc4863b937'}}, metadata={'source': 'loop', 'step': 0, 'parents': {}}, created_at='2025-10-24T18:28:22.707157+00:00', parent_config={'configurable': {'thread_id': 'crash_test', 'checkpoint_ns': '', 'checkpoint_id': '1f0b1073-8f6b-6afc-bfff-cc581e459639'}}, tasks=(PregelTask(id='717d711f-7bec-ec64-9781-7738de998519', name='step_1', path=('__pregel_pull', 'step_1'), error=None, interrupts=(), state=None, result={'step1': 'done', 'input': 'Test input'}),), interrupts=()),\n",
       " StateSnapshot(values={}, next=('__start__',), config={'configurable': {'thread_id': 'crash_test', 'checkpoint_ns': '', 'checkpoint_id': '1f0b1073-8f6b-6afc-bfff-cc581e459639'}}, metadata={'source': 'input', 'step': -1, 'parents': {}}, created_at='2025-10-24T18:28:22.706657+00:00', parent_config=None, tasks=(PregelTask(id='5fe58700-0f44-3748-3fcf-2e737400ee24', name='__start__', path=('__pregel_pull', '__start__'), error=None, interrupts=(), state=None, result={'input': 'Test input'}),), interrupts=())]"
      ]
     },
     "execution_count": 27,
     "metadata": {},
     "output_type": "execute_result"
    }
   ],
   "source": [
    "list(workflow.get_state_history(config={\"configurable\": {\"thread_id\": \"crash_test\"}}))"
   ]
  },
  {
   "cell_type": "code",
   "execution_count": 29,
   "id": "d300208d",
   "metadata": {},
   "outputs": [
    {
     "name": "stdout",
     "output_type": "stream",
     "text": [
      "Executing Step 2, now manually interrupt the kernel to simulate a crash.\n",
      "Executing Step 3\n",
      "Final State after recovery: {'input': 'Test input', 'step1': 'done', 'step2': 'done', 'step3': 'done'}\n"
     ]
    }
   ],
   "source": [
    "final_state = workflow.invoke(None, config={\"configurable\": {\"thread_id\": \"crash_test\"}})\n",
    "print(\"Final State after recovery:\", final_state)"
   ]
  },
  {
   "cell_type": "code",
   "execution_count": 30,
   "id": "ed24c288",
   "metadata": {},
   "outputs": [
    {
     "data": {
      "text/plain": [
       "StateSnapshot(values={'input': 'Test input', 'step1': 'done', 'step2': 'done', 'step3': 'done'}, next=(), config={'configurable': {'thread_id': 'crash_test', 'checkpoint_ns': '', 'checkpoint_id': '1f0b1078-0c8b-6d76-8003-a8f720a2f89c'}}, metadata={'source': 'loop', 'step': 3, 'parents': {}}, created_at='2025-10-24T18:30:23.201204+00:00', parent_config={'configurable': {'thread_id': 'crash_test', 'checkpoint_ns': '', 'checkpoint_id': '1f0b1078-0c8a-68c2-8002-f6f4a2394704'}}, tasks=(), interrupts=())"
      ]
     },
     "execution_count": 30,
     "metadata": {},
     "output_type": "execute_result"
    }
   ],
   "source": [
    "workflow.get_state(config={\"configurable\": {\"thread_id\": \"crash_test\"}})"
   ]
  },
  {
   "cell_type": "code",
   "execution_count": null,
   "id": "1cb7d844",
   "metadata": {},
   "outputs": [],
   "source": []
  }
 ],
 "metadata": {
  "kernelspec": {
   "display_name": "langgraph",
   "language": "python",
   "name": "python3"
  },
  "language_info": {
   "codemirror_mode": {
    "name": "ipython",
    "version": 3
   },
   "file_extension": ".py",
   "mimetype": "text/x-python",
   "name": "python",
   "nbconvert_exporter": "python",
   "pygments_lexer": "ipython3",
   "version": "3.10.13"
  }
 },
 "nbformat": 4,
 "nbformat_minor": 5
}
