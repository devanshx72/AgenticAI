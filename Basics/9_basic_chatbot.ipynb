{
 "cells": [
  {
   "cell_type": "code",
   "execution_count": 1,
   "id": "f421c0f2",
   "metadata": {},
   "outputs": [],
   "source": [
    "from langgraph.graph import StateGraph, START, END\n",
    "from typing import TypedDict, Annotated\n",
    "from langchain_core.messages import HumanMessage, BaseMessage\n",
    "from langchain_google_genai import ChatGoogleGenerativeAI\n",
    "from langgraph.checkpoint.memory import MemorySaver"
   ]
  },
  {
   "cell_type": "code",
   "execution_count": 2,
   "id": "c80cfb02",
   "metadata": {},
   "outputs": [],
   "source": [
    "from langgraph.graph.message import add_messages\n",
    "class ChatState(TypedDict):\n",
    "    messages: Annotated[list[BaseMessage], add_messages]"
   ]
  },
  {
   "cell_type": "code",
   "execution_count": 3,
   "id": "ae4f3a89",
   "metadata": {},
   "outputs": [
    {
     "name": "stderr",
     "output_type": "stream",
     "text": [
      "WARNING: All log messages before absl::InitializeLog() is called are written to STDERR\n",
      "E0000 00:00:1761294349.895007  274674 alts_credentials.cc:93] ALTS creds ignored. Not running on GCP and untrusted ALTS is not enabled.\n"
     ]
    }
   ],
   "source": [
    "llm = ChatGoogleGenerativeAI(model=\"gemini-2.5-flash\")\n",
    "\n",
    "def chat_node(state: ChatState):\n",
    "    messages = state[\"messages\"]\n",
    "    response = llm.invoke(messages)\n",
    "    return {\"messages\": [response]}"
   ]
  },
  {
   "cell_type": "code",
   "execution_count": 4,
   "id": "493b8791",
   "metadata": {},
   "outputs": [],
   "source": [
    "checkpointer = MemorySaver()\n",
    "\n",
    "graph = StateGraph(ChatState)\n",
    "\n",
    "graph.add_node(\"chat_node\", chat_node)\n",
    "\n",
    "graph.add_edge(START, \"chat_node\")\n",
    "graph.add_edge(\"chat_node\", END)\n",
    "\n",
    "workflow = graph.compile(checkpointer=checkpointer)"
   ]
  },
  {
   "cell_type": "code",
   "execution_count": 5,
   "id": "220fb687",
   "metadata": {},
   "outputs": [
    {
     "data": {
      "image/png": "[encoded data removed]",
      "text/plain": [
       "<langgraph.graph.state.CompiledStateGraph object at 0x112909570>"
      ]
     },
     "execution_count": 5,
     "metadata": {},
     "output_type": "execute_result"
    }
   ],
   "source": [
    "workflow"
   ]
  },
  {
   "cell_type": "code",
   "execution_count": 6,
   "id": "2cce1072",
   "metadata": {},
   "outputs": [
    {
     "name": "stdout",
     "output_type": "stream",
     "text": [
      "You: Hi! My name is Devansh Sharma\n",
      "Bot: Hi Devansh! It's nice to meet you.\n",
      "You: How r u\n",
      "Bot: As an AI, I don't have feelings in the way humans do, but I'm functioning perfectly and ready to assist you!\n",
      "\n",
      "How are you doing today, Devansh?\n",
      "You: I m doing good. What is my name?\n",
      "Bot: Your name is **Devansh Sharma**.\n"
     ]
    }
   ],
   "source": [
    "# Jab bhi chatbot initiate karna ho tab thread define karna hoga\n",
    "\n",
    "thread_id = '1'\n",
    "\n",
    "while True:\n",
    "\n",
    "    user_input = input(\"You: \")\n",
    "    if user_input.lower().strip() in [\"exit\", \"quit\", \"bye\"]:\n",
    "        break\n",
    "\n",
    "    config = {\"configurable\": {\"thread_id\": thread_id}}\n",
    "\n",
    "    print(\"You:\", user_input)\n",
    "    initial_state = {\n",
    "        \"messages\": [HumanMessage(content=user_input)]\n",
    "    }\n",
    "    response = workflow.invoke(initial_state, config=config)['messages'][-1].content\n",
    "    print(f\"Bot: {response}\")"
   ]
  },
  {
   "cell_type": "code",
   "execution_count": 7,
   "id": "bb8b720c",
   "metadata": {},
   "outputs": [
    {
     "data": {
      "text/plain": [
       "StateSnapshot(values={'messages': [HumanMessage(content='Hi! My name is Devansh Sharma', additional_kwargs={}, response_metadata={}, id='00dc06a1-952f-438f-bfdb-19b16c118a4d'), AIMessage(content=\"Hi Devansh! It's nice to meet you.\", additional_kwargs={}, response_metadata={'prompt_feedback': {'block_reason': 0, 'safety_ratings': []}, 'finish_reason': 'STOP', 'model_name': 'gemini-2.5-flash', 'safety_ratings': [], 'grounding_metadata': {}, 'model_provider': 'google_genai'}, id='lc_run--8840ab8e-8b8a-4ab9-af5d-3590789ac2bc-0', usage_metadata={'input_tokens': 9, 'output_tokens': 46, 'total_tokens': 55, 'input_token_details': {'cache_read': 0}, 'output_token_details': {'reasoning': 34}}), HumanMessage(content='How r u', additional_kwargs={}, response_metadata={}, id='551f1db2-297e-4ba6-9207-2d405f27c6cf'), AIMessage(content=\"As an AI, I don't have feelings in the way humans do, but I'm functioning perfectly and ready to assist you!\\n\\nHow are you doing today, Devansh?\", additional_kwargs={}, response_metadata={'prompt_feedback': {'block_reason': 0, 'safety_ratings': []}, 'finish_reason': 'STOP', 'model_name': 'gemini-2.5-flash', 'safety_ratings': [], 'grounding_metadata': {}, 'model_provider': 'google_genai'}, id='lc_run--be8f5760-313f-4d5a-8039-a70a28f62879-0', usage_metadata={'input_tokens': 26, 'output_tokens': 80, 'total_tokens': 106, 'input_token_details': {'cache_read': 0}, 'output_token_details': {'reasoning': 42}}), HumanMessage(content='I m doing good. What is my name?', additional_kwargs={}, response_metadata={}, id='2a90418e-0535-41dc-83b6-426d206b0924'), AIMessage(content='Your name is **Devansh Sharma**.', additional_kwargs={}, response_metadata={'prompt_feedback': {'block_reason': 0, 'safety_ratings': []}, 'finish_reason': 'STOP', 'model_name': 'gemini-2.5-flash', 'safety_ratings': [], 'grounding_metadata': {}, 'model_provider': 'google_genai'}, id='lc_run--4293ea28-d79a-4790-b025-649f49337e82-0', usage_metadata={'input_tokens': 76, 'output_tokens': 38, 'total_tokens': 114, 'input_token_details': {'cache_read': 0}, 'output_token_details': {'reasoning': 30}})]}, next=(), config={'configurable': {'thread_id': '1', 'checkpoint_ns': '', 'checkpoint_id': '1f0b0b32-bca8-643e-8007-d83e1463825e'}}, metadata={'source': 'loop', 'step': 7, 'parents': {}}, created_at='2025-10-24T08:26:42.881182+00:00', parent_config={'configurable': {'thread_id': '1', 'checkpoint_ns': '', 'checkpoint_id': '1f0b0b32-aa3b-6dbe-8006-e98bc8214597'}}, tasks=(), interrupts=())"
      ]
     },
     "execution_count": 7,
     "metadata": {},
     "output_type": "execute_result"
    }
   ],
   "source": [
    "workflow.get_state(config=config)"
   ]
  },
  {
   "cell_type": "code",
   "execution_count": null,
   "id": "9904f8b6",
   "metadata": {},
   "outputs": [],
   "source": []
  }
 ],
 "metadata": {
  "kernelspec": {
   "display_name": "langgraph",
   "language": "python",
   "name": "python3"
  },
  "language_info": {
   "codemirror_mode": {
    "name": "ipython",
    "version": 3
   },
   "file_extension": ".py",
   "mimetype": "text/x-python",
   "name": "python",
   "nbconvert_exporter": "python",
   "pygments_lexer": "ipython3",
   "version": "3.10.13"
  }
 },
 "nbformat": 4,
 "nbformat_minor": 5
}
