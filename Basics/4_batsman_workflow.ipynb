{
 "cells": [
  {
   "cell_type": "code",
   "execution_count": 1,
   "id": "1586d533",
   "metadata": {},
   "outputs": [],
   "source": [
    "from langgraph.graph import StateGraph, START, END\n",
    "from typing import TypedDict"
   ]
  },
  {
   "cell_type": "code",
   "execution_count": 2,
   "id": "7b2bb2f6",
   "metadata": {},
   "outputs": [],
   "source": [
    "class BatsmanState(TypedDict):\n",
    "    runs: int\n",
    "    balls: int\n",
    "    fours: int\n",
    "    sixes: int\n",
    "\n",
    "    sr: float\n",
    "    bpb: float\n",
    "    boundary_percentage: float\n",
    "    summary: str"
   ]
  },
  {
   "cell_type": "code",
   "execution_count": 3,
   "id": "00808234",
   "metadata": {},
   "outputs": [],
   "source": [
    "def calculate_sr(state: BatsmanState):\n",
    "    sr = (state['runs'] / state['balls']) * 100\n",
    "    return {'sr': sr}\n",
    "\n",
    "def calculate_bpb(state: BatsmanState):\n",
    "    bpb = state['balls'] / (state['fours'] + state['sixes'])\n",
    "    return {'bpb': round(bpb, 2)}\n",
    "\n",
    "def calculate_boundary_percentage(state: BatsmanState):\n",
    "    boundary_percentage = ((state['fours'] * 4 + state['sixes'] * 6) / state['runs']) * 100\n",
    "    return {'boundary_percentage': round(boundary_percentage, 2)}\n",
    "\n",
    "def summary(state: BatsmanState):\n",
    "    summary = f\"\"\"\n",
    "    Strike Rate: {state['sr']:.2f} \\n\n",
    "    Balls Per Boundary: {state['bpb']:.2f} \\n\n",
    "    Boundary Percentage: {state['boundary_percentage']:.2f}%\n",
    "    \"\"\"\n",
    "    return {'summary': summary}"
   ]
  },
  {
   "cell_type": "code",
   "execution_count": 4,
   "id": "26d376d5",
   "metadata": {},
   "outputs": [
    {
     "data": {
      "text/plain": [
       "<langgraph.graph.state.StateGraph at 0x228cad69350>"
      ]
     },
     "execution_count": 4,
     "metadata": {},
     "output_type": "execute_result"
    }
   ],
   "source": [
    "graph = StateGraph(BatsmanState)\n",
    "\n",
    "# add nodes\n",
    "graph.add_node(\"calculate_sr\", calculate_sr)\n",
    "graph.add_node(\"calculate_bpb\", calculate_bpb)\n",
    "graph.add_node(\"calculate_boundary_percentage\", calculate_boundary_percentage)\n",
    "graph.add_node(\"summary\", summary)"
   ]
  },
  {
   "cell_type": "code",
   "execution_count": 5,
   "id": "c7d6b08a",
   "metadata": {},
   "outputs": [],
   "source": [
    "graph.add_edge(START, \"calculate_sr\")\n",
    "graph.add_edge(START, \"calculate_bpb\")\n",
    "graph.add_edge(START, \"calculate_boundary_percentage\")\n",
    "graph.add_edge(\"calculate_sr\", \"summary\")\n",
    "graph.add_edge(\"calculate_bpb\", \"summary\")\n",
    "graph.add_edge(\"calculate_boundary_percentage\", \"summary\")\n",
    "graph.add_edge(\"summary\", END)\n",
    "\n",
    "workflow = graph.compile()"
   ]
  },
  {
   "cell_type": "code",
   "execution_count": 6,
   "id": "09117dff",
   "metadata": {},
   "outputs": [
    {
     "data": {
      "image/png": "[encoded data removed]",
      "text/plain": [
       "<langgraph.graph.state.CompiledStateGraph object at 0x00000228CBC96490>"
      ]
     },
     "execution_count": 6,
     "metadata": {},
     "output_type": "execute_result"
    }
   ],
   "source": [
    "workflow"
   ]
  },
  {
   "cell_type": "code",
   "execution_count": 7,
   "id": "c86eb412",
   "metadata": {},
   "outputs": [],
   "source": [
    "initial_state = {\n",
    "    \"runs\": 85,\n",
    "    \"balls\": 100,\n",
    "    \"fours\": 10,\n",
    "    \"sixes\": 5,\n",
    "}\n",
    "\n",
    "final_state = workflow.invoke(initial_state)"
   ]
  },
  {
   "cell_type": "code",
   "execution_count": 8,
   "id": "dd581473",
   "metadata": {},
   "outputs": [
    {
     "data": {
      "text/plain": [
       "{'runs': 85,\n",
       " 'balls': 100,\n",
       " 'fours': 10,\n",
       " 'sixes': 5,\n",
       " 'sr': 85.0,\n",
       " 'bpb': 6.67,\n",
       " 'boundary_percentage': 82.35,\n",
       " 'summary': '\\n    Strike Rate: 85.00 \\n\\n    Balls Per Boundary: 6.67 \\n\\n    Boundary Percentage: 82.35%\\n    '}"
      ]
     },
     "execution_count": 8,
     "metadata": {},
     "output_type": "execute_result"
    }
   ],
   "source": [
    "final_state"
   ]
  },
  {
   "cell_type": "code",
   "execution_count": null,
   "id": "9330c3cf",
   "metadata": {},
   "outputs": [],
   "source": []
  }
 ],
 "metadata": {
  "kernelspec": {
   "display_name": "langgraph",
   "language": "python",
   "name": "python3"
  },
  "language_info": {
   "codemirror_mode": {
    "name": "ipython",
    "version": 3
   },
   "file_extension": ".py",
   "mimetype": "text/x-python",
   "name": "python",
   "nbconvert_exporter": "python",
   "pygments_lexer": "ipython3",
   "version": "3.11.9"
  }
 },
 "nbformat": 4,
 "nbformat_minor": 5
}
